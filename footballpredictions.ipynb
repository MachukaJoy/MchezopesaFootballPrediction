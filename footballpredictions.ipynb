{
  "nbformat": 4,
  "nbformat_minor": 0,
  "metadata": {
    "colab": {
      "name": "footballpredictions.ipynb",
      "provenance": [],
      "toc_visible": true
    },
    "kernelspec": {
      "name": "python3",
      "display_name": "Python 3"
    },
    "language_info": {
      "name": "python"
    }
  },
  "cells": [
    {
      "cell_type": "markdown",
      "metadata": {
        "id": "naJjerkRV5Fp"
      },
      "source": [
        "###Defining the question"
      ]
    },
    {
      "cell_type": "markdown",
      "metadata": {
        "id": "54GPZNwwWEJ6"
      },
      "source": [
        "**a) Specifying the question<br>**\n",
        "You have been recruited as a football analyst in a company - Mchezopesa Ltd and tasked to accomplish the task below.\n",
        "\n",
        "A prediction result of a game between team 1 and team 2, based on who's home and who's away, and on whether or not the game is friendly (include rank in your training)."
      ]
    },
    {
      "cell_type": "markdown",
      "metadata": {
        "id": "_8IWj-3YW4d6"
      },
      "source": [
        "**b) Defining metrics of success<br>**\n",
        "\n",
        "For our analysis to be considered successful, we must be able to:<br>\n",
        "\n",
        "Perform explorative data analysis.<br>\n",
        "Create a prediction model with high accuracy<br>\n",
        "Predict how many goals the home team scores.<br>\n",
        "Predict how many goals the away team scores.<br>\n",
        "Predict whether a match/game is a Win, Lose or Draw\n"
      ]
    },
    {
      "cell_type": "markdown",
      "metadata": {
        "id": "bODD4SjGYGuL"
      },
      "source": [
        "**c) Understanfing the context**\n",
        "\n",
        "The men's FIFA World Ranking is a ranking system for men's national teams in association football, currently led by Belgium.[1] The teams of the men's member nations of FIFA, football's world governing body, are ranked based on their game results with the most successful teams being ranked highest. The rankings were introduced in December 1992, and eight teams (Argentina, Belgium, Brazil, France, Germany, Italy, the Netherlands and Spain) have held the top position, of which Brazil have spent the longest ranked first.\n",
        "\n",
        "A points system is used, with points being awarded based on the results of all FIFA-recognised full international matches. The ranking system has been revamped on several occasions, generally responding to criticism that the preceding calculation method did not effectively reflect the relative strengths of the national teams. \n",
        "The rankings are calculated using an algorithm called Elo. The Elo method of calculation adds/subtracts points (as opposed to averaging points) for individual matches to/from a team’s existing point total. The points which are added or subtracted are partially determined by the relative strength of the two opponents, including the logical expectation that teams higher in the ranking should fare better against teams lower in the ranking."
      ]
    },
    {
      "cell_type": "markdown",
      "metadata": {
        "id": "iVO5H_TjX9Tf"
      },
      "source": [
        "**d) Experimental Design**<br>\n",
        "* Defining the Question\n",
        "* Data preparation\n",
        "* Data Cleaning\n",
        "* Merging the Dataframes\n",
        "* Performing EDA\n",
        "* Prediction Models\n",
        "* Checking accuracy for our models\n",
        "* Challenging the solution and conclusion\n",
        "\n",
        "\n",
        "\n"
      ]
    },
    {
      "cell_type": "markdown",
      "metadata": {
        "id": "OKPHH8hGytEa"
      },
      "source": [
        "###Data preparation\n"
      ]
    },
    {
      "cell_type": "code",
      "metadata": {
        "id": "q16SOWq3-Zpr"
      },
      "source": [
        "#importing libraries\n",
        "import pandas as pd\n",
        "import numpy as np\n",
        "import matplotlib.pyplot as plt\n",
        "import seaborn as sns\n",
        "from sklearn.linear_model import LinearRegression\n",
        "from sklearn.linear_model import LogisticRegression\n",
        "from sklearn.model_selection import KFold\n",
        "from sklearn.model_selection import train_test_split\n",
        "from sklearn.preprocessing import PolynomialFeatures\n",
        "from sklearn import metrics\n",
        "from sklearn.metrics import mean_squared_error, r2_score"
      ],
      "execution_count": 1,
      "outputs": []
    },
    {
      "cell_type": "code",
      "metadata": {
        "id": "f0Ld-Qk1SJZD"
      },
      "source": [
        "#loading our datasets\n",
        "results = pd.read_csv(\"/content/results.csv\")\n",
        "ranking = pd.read_csv(\"/content/fifa_ranking.csv\")"
      ],
      "execution_count": 2,
      "outputs": []
    },
    {
      "cell_type": "code",
      "metadata": {
        "colab": {
          "base_uri": "https://localhost:8080/",
          "height": 205
        },
        "id": "lgPKr5Qq_fq5",
        "outputId": "baa022ed-af61-4e12-c82d-147221677098"
      },
      "source": [
        "#previewing\n",
        "results.head()"
      ],
      "execution_count": 3,
      "outputs": [
        {
          "output_type": "execute_result",
          "data": {
            "text/html": [
              "<div>\n",
              "<style scoped>\n",
              "    .dataframe tbody tr th:only-of-type {\n",
              "        vertical-align: middle;\n",
              "    }\n",
              "\n",
              "    .dataframe tbody tr th {\n",
              "        vertical-align: top;\n",
              "    }\n",
              "\n",
              "    .dataframe thead th {\n",
              "        text-align: right;\n",
              "    }\n",
              "</style>\n",
              "<table border=\"1\" class=\"dataframe\">\n",
              "  <thead>\n",
              "    <tr style=\"text-align: right;\">\n",
              "      <th></th>\n",
              "      <th>date</th>\n",
              "      <th>home_team</th>\n",
              "      <th>away_team</th>\n",
              "      <th>home_score</th>\n",
              "      <th>away_score</th>\n",
              "      <th>tournament</th>\n",
              "      <th>city</th>\n",
              "      <th>country</th>\n",
              "      <th>neutral</th>\n",
              "    </tr>\n",
              "  </thead>\n",
              "  <tbody>\n",
              "    <tr>\n",
              "      <th>0</th>\n",
              "      <td>1872-11-30</td>\n",
              "      <td>Scotland</td>\n",
              "      <td>England</td>\n",
              "      <td>0</td>\n",
              "      <td>0</td>\n",
              "      <td>Friendly</td>\n",
              "      <td>Glasgow</td>\n",
              "      <td>Scotland</td>\n",
              "      <td>False</td>\n",
              "    </tr>\n",
              "    <tr>\n",
              "      <th>1</th>\n",
              "      <td>1873-03-08</td>\n",
              "      <td>England</td>\n",
              "      <td>Scotland</td>\n",
              "      <td>4</td>\n",
              "      <td>2</td>\n",
              "      <td>Friendly</td>\n",
              "      <td>London</td>\n",
              "      <td>England</td>\n",
              "      <td>False</td>\n",
              "    </tr>\n",
              "    <tr>\n",
              "      <th>2</th>\n",
              "      <td>1874-03-07</td>\n",
              "      <td>Scotland</td>\n",
              "      <td>England</td>\n",
              "      <td>2</td>\n",
              "      <td>1</td>\n",
              "      <td>Friendly</td>\n",
              "      <td>Glasgow</td>\n",
              "      <td>Scotland</td>\n",
              "      <td>False</td>\n",
              "    </tr>\n",
              "    <tr>\n",
              "      <th>3</th>\n",
              "      <td>1875-03-06</td>\n",
              "      <td>England</td>\n",
              "      <td>Scotland</td>\n",
              "      <td>2</td>\n",
              "      <td>2</td>\n",
              "      <td>Friendly</td>\n",
              "      <td>London</td>\n",
              "      <td>England</td>\n",
              "      <td>False</td>\n",
              "    </tr>\n",
              "    <tr>\n",
              "      <th>4</th>\n",
              "      <td>1876-03-04</td>\n",
              "      <td>Scotland</td>\n",
              "      <td>England</td>\n",
              "      <td>3</td>\n",
              "      <td>0</td>\n",
              "      <td>Friendly</td>\n",
              "      <td>Glasgow</td>\n",
              "      <td>Scotland</td>\n",
              "      <td>False</td>\n",
              "    </tr>\n",
              "  </tbody>\n",
              "</table>\n",
              "</div>"
            ],
            "text/plain": [
              "         date home_team away_team  ...     city   country neutral\n",
              "0  1872-11-30  Scotland   England  ...  Glasgow  Scotland   False\n",
              "1  1873-03-08   England  Scotland  ...   London   England   False\n",
              "2  1874-03-07  Scotland   England  ...  Glasgow  Scotland   False\n",
              "3  1875-03-06   England  Scotland  ...   London   England   False\n",
              "4  1876-03-04  Scotland   England  ...  Glasgow  Scotland   False\n",
              "\n",
              "[5 rows x 9 columns]"
            ]
          },
          "metadata": {
            "tags": []
          },
          "execution_count": 3
        }
      ]
    },
    {
      "cell_type": "code",
      "metadata": {
        "colab": {
          "base_uri": "https://localhost:8080/",
          "height": 292
        },
        "id": "P9F7gdhUQnOy",
        "outputId": "6e1bd3a7-4dc0-45cd-ab66-9d12e95698a9"
      },
      "source": [
        "#previewing\n",
        "results.tail()"
      ],
      "execution_count": 4,
      "outputs": [
        {
          "output_type": "execute_result",
          "data": {
            "text/html": [
              "<div>\n",
              "<style scoped>\n",
              "    .dataframe tbody tr th:only-of-type {\n",
              "        vertical-align: middle;\n",
              "    }\n",
              "\n",
              "    .dataframe tbody tr th {\n",
              "        vertical-align: top;\n",
              "    }\n",
              "\n",
              "    .dataframe thead th {\n",
              "        text-align: right;\n",
              "    }\n",
              "</style>\n",
              "<table border=\"1\" class=\"dataframe\">\n",
              "  <thead>\n",
              "    <tr style=\"text-align: right;\">\n",
              "      <th></th>\n",
              "      <th>date</th>\n",
              "      <th>home_team</th>\n",
              "      <th>away_team</th>\n",
              "      <th>home_score</th>\n",
              "      <th>away_score</th>\n",
              "      <th>tournament</th>\n",
              "      <th>city</th>\n",
              "      <th>country</th>\n",
              "      <th>neutral</th>\n",
              "    </tr>\n",
              "  </thead>\n",
              "  <tbody>\n",
              "    <tr>\n",
              "      <th>40834</th>\n",
              "      <td>2019-07-18</td>\n",
              "      <td>American Samoa</td>\n",
              "      <td>Tahiti</td>\n",
              "      <td>8</td>\n",
              "      <td>1</td>\n",
              "      <td>Pacific Games</td>\n",
              "      <td>Apia</td>\n",
              "      <td>Samoa</td>\n",
              "      <td>True</td>\n",
              "    </tr>\n",
              "    <tr>\n",
              "      <th>40835</th>\n",
              "      <td>2019-07-18</td>\n",
              "      <td>Fiji</td>\n",
              "      <td>Solomon Islands</td>\n",
              "      <td>4</td>\n",
              "      <td>4</td>\n",
              "      <td>Pacific Games</td>\n",
              "      <td>Apia</td>\n",
              "      <td>Samoa</td>\n",
              "      <td>True</td>\n",
              "    </tr>\n",
              "    <tr>\n",
              "      <th>40836</th>\n",
              "      <td>2019-07-19</td>\n",
              "      <td>Senegal</td>\n",
              "      <td>Algeria</td>\n",
              "      <td>0</td>\n",
              "      <td>1</td>\n",
              "      <td>African Cup of Nations</td>\n",
              "      <td>Cairo</td>\n",
              "      <td>Egypt</td>\n",
              "      <td>True</td>\n",
              "    </tr>\n",
              "    <tr>\n",
              "      <th>40837</th>\n",
              "      <td>2019-07-19</td>\n",
              "      <td>Tajikistan</td>\n",
              "      <td>North Korea</td>\n",
              "      <td>0</td>\n",
              "      <td>1</td>\n",
              "      <td>Intercontinental Cup</td>\n",
              "      <td>Ahmedabad</td>\n",
              "      <td>India</td>\n",
              "      <td>True</td>\n",
              "    </tr>\n",
              "    <tr>\n",
              "      <th>40838</th>\n",
              "      <td>2019-07-20</td>\n",
              "      <td>Papua New Guinea</td>\n",
              "      <td>Fiji</td>\n",
              "      <td>1</td>\n",
              "      <td>1</td>\n",
              "      <td>Pacific Games</td>\n",
              "      <td>Apia</td>\n",
              "      <td>Samoa</td>\n",
              "      <td>True</td>\n",
              "    </tr>\n",
              "  </tbody>\n",
              "</table>\n",
              "</div>"
            ],
            "text/plain": [
              "             date         home_team  ... country  neutral\n",
              "40834  2019-07-18    American Samoa  ...   Samoa     True\n",
              "40835  2019-07-18              Fiji  ...   Samoa     True\n",
              "40836  2019-07-19           Senegal  ...   Egypt     True\n",
              "40837  2019-07-19        Tajikistan  ...   India     True\n",
              "40838  2019-07-20  Papua New Guinea  ...   Samoa     True\n",
              "\n",
              "[5 rows x 9 columns]"
            ]
          },
          "metadata": {
            "tags": []
          },
          "execution_count": 4
        }
      ]
    },
    {
      "cell_type": "code",
      "metadata": {
        "colab": {
          "base_uri": "https://localhost:8080/",
          "height": 312
        },
        "id": "EfDAeS9H_p2N",
        "outputId": "98309259-4d7e-4aad-a61f-99e9c3a6ee93"
      },
      "source": [
        "#previewing\n",
        "ranking.head()"
      ],
      "execution_count": 5,
      "outputs": [
        {
          "output_type": "execute_result",
          "data": {
            "text/html": [
              "<div>\n",
              "<style scoped>\n",
              "    .dataframe tbody tr th:only-of-type {\n",
              "        vertical-align: middle;\n",
              "    }\n",
              "\n",
              "    .dataframe tbody tr th {\n",
              "        vertical-align: top;\n",
              "    }\n",
              "\n",
              "    .dataframe thead th {\n",
              "        text-align: right;\n",
              "    }\n",
              "</style>\n",
              "<table border=\"1\" class=\"dataframe\">\n",
              "  <thead>\n",
              "    <tr style=\"text-align: right;\">\n",
              "      <th></th>\n",
              "      <th>rank</th>\n",
              "      <th>country_full</th>\n",
              "      <th>country_abrv</th>\n",
              "      <th>total_points</th>\n",
              "      <th>previous_points</th>\n",
              "      <th>rank_change</th>\n",
              "      <th>cur_year_avg</th>\n",
              "      <th>cur_year_avg_weighted</th>\n",
              "      <th>last_year_avg</th>\n",
              "      <th>last_year_avg_weighted</th>\n",
              "      <th>two_year_ago_avg</th>\n",
              "      <th>two_year_ago_weighted</th>\n",
              "      <th>three_year_ago_avg</th>\n",
              "      <th>three_year_ago_weighted</th>\n",
              "      <th>confederation</th>\n",
              "      <th>rank_date</th>\n",
              "    </tr>\n",
              "  </thead>\n",
              "  <tbody>\n",
              "    <tr>\n",
              "      <th>0</th>\n",
              "      <td>1</td>\n",
              "      <td>Germany</td>\n",
              "      <td>GER</td>\n",
              "      <td>0.0</td>\n",
              "      <td>57</td>\n",
              "      <td>0</td>\n",
              "      <td>0.0</td>\n",
              "      <td>0.0</td>\n",
              "      <td>0.0</td>\n",
              "      <td>0.0</td>\n",
              "      <td>0.0</td>\n",
              "      <td>0.0</td>\n",
              "      <td>0.0</td>\n",
              "      <td>0.0</td>\n",
              "      <td>UEFA</td>\n",
              "      <td>1993-08-08</td>\n",
              "    </tr>\n",
              "    <tr>\n",
              "      <th>1</th>\n",
              "      <td>2</td>\n",
              "      <td>Italy</td>\n",
              "      <td>ITA</td>\n",
              "      <td>0.0</td>\n",
              "      <td>57</td>\n",
              "      <td>0</td>\n",
              "      <td>0.0</td>\n",
              "      <td>0.0</td>\n",
              "      <td>0.0</td>\n",
              "      <td>0.0</td>\n",
              "      <td>0.0</td>\n",
              "      <td>0.0</td>\n",
              "      <td>0.0</td>\n",
              "      <td>0.0</td>\n",
              "      <td>UEFA</td>\n",
              "      <td>1993-08-08</td>\n",
              "    </tr>\n",
              "    <tr>\n",
              "      <th>2</th>\n",
              "      <td>3</td>\n",
              "      <td>Switzerland</td>\n",
              "      <td>SUI</td>\n",
              "      <td>0.0</td>\n",
              "      <td>50</td>\n",
              "      <td>9</td>\n",
              "      <td>0.0</td>\n",
              "      <td>0.0</td>\n",
              "      <td>0.0</td>\n",
              "      <td>0.0</td>\n",
              "      <td>0.0</td>\n",
              "      <td>0.0</td>\n",
              "      <td>0.0</td>\n",
              "      <td>0.0</td>\n",
              "      <td>UEFA</td>\n",
              "      <td>1993-08-08</td>\n",
              "    </tr>\n",
              "    <tr>\n",
              "      <th>3</th>\n",
              "      <td>4</td>\n",
              "      <td>Sweden</td>\n",
              "      <td>SWE</td>\n",
              "      <td>0.0</td>\n",
              "      <td>55</td>\n",
              "      <td>0</td>\n",
              "      <td>0.0</td>\n",
              "      <td>0.0</td>\n",
              "      <td>0.0</td>\n",
              "      <td>0.0</td>\n",
              "      <td>0.0</td>\n",
              "      <td>0.0</td>\n",
              "      <td>0.0</td>\n",
              "      <td>0.0</td>\n",
              "      <td>UEFA</td>\n",
              "      <td>1993-08-08</td>\n",
              "    </tr>\n",
              "    <tr>\n",
              "      <th>4</th>\n",
              "      <td>5</td>\n",
              "      <td>Argentina</td>\n",
              "      <td>ARG</td>\n",
              "      <td>0.0</td>\n",
              "      <td>51</td>\n",
              "      <td>5</td>\n",
              "      <td>0.0</td>\n",
              "      <td>0.0</td>\n",
              "      <td>0.0</td>\n",
              "      <td>0.0</td>\n",
              "      <td>0.0</td>\n",
              "      <td>0.0</td>\n",
              "      <td>0.0</td>\n",
              "      <td>0.0</td>\n",
              "      <td>CONMEBOL</td>\n",
              "      <td>1993-08-08</td>\n",
              "    </tr>\n",
              "  </tbody>\n",
              "</table>\n",
              "</div>"
            ],
            "text/plain": [
              "   rank country_full  ... confederation   rank_date\n",
              "0     1      Germany  ...          UEFA  1993-08-08\n",
              "1     2        Italy  ...          UEFA  1993-08-08\n",
              "2     3  Switzerland  ...          UEFA  1993-08-08\n",
              "3     4       Sweden  ...          UEFA  1993-08-08\n",
              "4     5    Argentina  ...      CONMEBOL  1993-08-08\n",
              "\n",
              "[5 rows x 16 columns]"
            ]
          },
          "metadata": {
            "tags": []
          },
          "execution_count": 5
        }
      ]
    },
    {
      "cell_type": "code",
      "metadata": {
        "colab": {
          "base_uri": "https://localhost:8080/",
          "height": 312
        },
        "id": "AcruMHJUQrLs",
        "outputId": "0a5da50f-fb67-45c8-98f4-98ee80e495c8"
      },
      "source": [
        "#previewing\n",
        "ranking.tail()"
      ],
      "execution_count": 6,
      "outputs": [
        {
          "output_type": "execute_result",
          "data": {
            "text/html": [
              "<div>\n",
              "<style scoped>\n",
              "    .dataframe tbody tr th:only-of-type {\n",
              "        vertical-align: middle;\n",
              "    }\n",
              "\n",
              "    .dataframe tbody tr th {\n",
              "        vertical-align: top;\n",
              "    }\n",
              "\n",
              "    .dataframe thead th {\n",
              "        text-align: right;\n",
              "    }\n",
              "</style>\n",
              "<table border=\"1\" class=\"dataframe\">\n",
              "  <thead>\n",
              "    <tr style=\"text-align: right;\">\n",
              "      <th></th>\n",
              "      <th>rank</th>\n",
              "      <th>country_full</th>\n",
              "      <th>country_abrv</th>\n",
              "      <th>total_points</th>\n",
              "      <th>previous_points</th>\n",
              "      <th>rank_change</th>\n",
              "      <th>cur_year_avg</th>\n",
              "      <th>cur_year_avg_weighted</th>\n",
              "      <th>last_year_avg</th>\n",
              "      <th>last_year_avg_weighted</th>\n",
              "      <th>two_year_ago_avg</th>\n",
              "      <th>two_year_ago_weighted</th>\n",
              "      <th>three_year_ago_avg</th>\n",
              "      <th>three_year_ago_weighted</th>\n",
              "      <th>confederation</th>\n",
              "      <th>rank_date</th>\n",
              "    </tr>\n",
              "  </thead>\n",
              "  <tbody>\n",
              "    <tr>\n",
              "      <th>57788</th>\n",
              "      <td>206</td>\n",
              "      <td>Anguilla</td>\n",
              "      <td>AIA</td>\n",
              "      <td>0.0</td>\n",
              "      <td>0</td>\n",
              "      <td>1</td>\n",
              "      <td>0.0</td>\n",
              "      <td>0.0</td>\n",
              "      <td>0.0</td>\n",
              "      <td>0.0</td>\n",
              "      <td>0.0</td>\n",
              "      <td>0.0</td>\n",
              "      <td>0.0</td>\n",
              "      <td>0.0</td>\n",
              "      <td>CONCACAF</td>\n",
              "      <td>2018-06-07</td>\n",
              "    </tr>\n",
              "    <tr>\n",
              "      <th>57789</th>\n",
              "      <td>206</td>\n",
              "      <td>Bahamas</td>\n",
              "      <td>BAH</td>\n",
              "      <td>0.0</td>\n",
              "      <td>0</td>\n",
              "      <td>1</td>\n",
              "      <td>0.0</td>\n",
              "      <td>0.0</td>\n",
              "      <td>0.0</td>\n",
              "      <td>0.0</td>\n",
              "      <td>0.0</td>\n",
              "      <td>0.0</td>\n",
              "      <td>0.0</td>\n",
              "      <td>0.0</td>\n",
              "      <td>CONCACAF</td>\n",
              "      <td>2018-06-07</td>\n",
              "    </tr>\n",
              "    <tr>\n",
              "      <th>57790</th>\n",
              "      <td>206</td>\n",
              "      <td>Eritrea</td>\n",
              "      <td>ERI</td>\n",
              "      <td>0.0</td>\n",
              "      <td>0</td>\n",
              "      <td>1</td>\n",
              "      <td>0.0</td>\n",
              "      <td>0.0</td>\n",
              "      <td>0.0</td>\n",
              "      <td>0.0</td>\n",
              "      <td>0.0</td>\n",
              "      <td>0.0</td>\n",
              "      <td>0.0</td>\n",
              "      <td>0.0</td>\n",
              "      <td>CAF</td>\n",
              "      <td>2018-06-07</td>\n",
              "    </tr>\n",
              "    <tr>\n",
              "      <th>57791</th>\n",
              "      <td>206</td>\n",
              "      <td>Somalia</td>\n",
              "      <td>SOM</td>\n",
              "      <td>0.0</td>\n",
              "      <td>0</td>\n",
              "      <td>1</td>\n",
              "      <td>0.0</td>\n",
              "      <td>0.0</td>\n",
              "      <td>0.0</td>\n",
              "      <td>0.0</td>\n",
              "      <td>0.0</td>\n",
              "      <td>0.0</td>\n",
              "      <td>0.0</td>\n",
              "      <td>0.0</td>\n",
              "      <td>CAF</td>\n",
              "      <td>2018-06-07</td>\n",
              "    </tr>\n",
              "    <tr>\n",
              "      <th>57792</th>\n",
              "      <td>206</td>\n",
              "      <td>Tonga</td>\n",
              "      <td>TGA</td>\n",
              "      <td>0.0</td>\n",
              "      <td>0</td>\n",
              "      <td>1</td>\n",
              "      <td>0.0</td>\n",
              "      <td>0.0</td>\n",
              "      <td>0.0</td>\n",
              "      <td>0.0</td>\n",
              "      <td>0.0</td>\n",
              "      <td>0.0</td>\n",
              "      <td>0.0</td>\n",
              "      <td>0.0</td>\n",
              "      <td>OFC</td>\n",
              "      <td>2018-06-07</td>\n",
              "    </tr>\n",
              "  </tbody>\n",
              "</table>\n",
              "</div>"
            ],
            "text/plain": [
              "       rank country_full  ... confederation   rank_date\n",
              "57788   206     Anguilla  ...      CONCACAF  2018-06-07\n",
              "57789   206      Bahamas  ...      CONCACAF  2018-06-07\n",
              "57790   206      Eritrea  ...           CAF  2018-06-07\n",
              "57791   206      Somalia  ...           CAF  2018-06-07\n",
              "57792   206        Tonga  ...           OFC  2018-06-07\n",
              "\n",
              "[5 rows x 16 columns]"
            ]
          },
          "metadata": {
            "tags": []
          },
          "execution_count": 6
        }
      ]
    },
    {
      "cell_type": "code",
      "metadata": {
        "colab": {
          "base_uri": "https://localhost:8080/"
        },
        "id": "Yxh5mTAbA6d3",
        "outputId": "9adc82a8-c565-47a4-b315-f7e951e0b36b"
      },
      "source": [
        "#checking theshape ofour dataframes\n",
        "print(results.shape)\n",
        "print(ranking.shape)"
      ],
      "execution_count": 7,
      "outputs": [
        {
          "output_type": "stream",
          "text": [
            "(40839, 9)\n",
            "(57793, 16)\n"
          ],
          "name": "stdout"
        }
      ]
    },
    {
      "cell_type": "code",
      "metadata": {
        "colab": {
          "base_uri": "https://localhost:8080/"
        },
        "id": "yMtvYVmJP87E",
        "outputId": "ea38e04d-da2a-4d7c-f4c1-978f83aee06e"
      },
      "source": [
        "#getting information about our datasets\n",
        "results.info"
      ],
      "execution_count": 8,
      "outputs": [
        {
          "output_type": "execute_result",
          "data": {
            "text/plain": [
              "<bound method DataFrame.info of              date         home_team  ...   country  neutral\n",
              "0      1872-11-30          Scotland  ...  Scotland    False\n",
              "1      1873-03-08           England  ...   England    False\n",
              "2      1874-03-07          Scotland  ...  Scotland    False\n",
              "3      1875-03-06           England  ...   England    False\n",
              "4      1876-03-04          Scotland  ...  Scotland    False\n",
              "...           ...               ...  ...       ...      ...\n",
              "40834  2019-07-18    American Samoa  ...     Samoa     True\n",
              "40835  2019-07-18              Fiji  ...     Samoa     True\n",
              "40836  2019-07-19           Senegal  ...     Egypt     True\n",
              "40837  2019-07-19        Tajikistan  ...     India     True\n",
              "40838  2019-07-20  Papua New Guinea  ...     Samoa     True\n",
              "\n",
              "[40839 rows x 9 columns]>"
            ]
          },
          "metadata": {
            "tags": []
          },
          "execution_count": 8
        }
      ]
    },
    {
      "cell_type": "code",
      "metadata": {
        "colab": {
          "base_uri": "https://localhost:8080/"
        },
        "id": "BbDgLT8nQI5p",
        "outputId": "e1fd974d-7a2f-4d5c-d153-1b7fa3921636"
      },
      "source": [
        "#getting information about our datasets\n",
        "ranking.info"
      ],
      "execution_count": 9,
      "outputs": [
        {
          "output_type": "execute_result",
          "data": {
            "text/plain": [
              "<bound method DataFrame.info of        rank country_full  ... confederation   rank_date\n",
              "0         1      Germany  ...          UEFA  1993-08-08\n",
              "1         2        Italy  ...          UEFA  1993-08-08\n",
              "2         3  Switzerland  ...          UEFA  1993-08-08\n",
              "3         4       Sweden  ...          UEFA  1993-08-08\n",
              "4         5    Argentina  ...      CONMEBOL  1993-08-08\n",
              "...     ...          ...  ...           ...         ...\n",
              "57788   206     Anguilla  ...      CONCACAF  2018-06-07\n",
              "57789   206      Bahamas  ...      CONCACAF  2018-06-07\n",
              "57790   206      Eritrea  ...           CAF  2018-06-07\n",
              "57791   206      Somalia  ...           CAF  2018-06-07\n",
              "57792   206        Tonga  ...           OFC  2018-06-07\n",
              "\n",
              "[57793 rows x 16 columns]>"
            ]
          },
          "metadata": {
            "tags": []
          },
          "execution_count": 9
        }
      ]
    },
    {
      "cell_type": "markdown",
      "metadata": {
        "id": "1NwCaT2VRY6N"
      },
      "source": [
        "###Data Cleaning"
      ]
    },
    {
      "cell_type": "code",
      "metadata": {
        "colab": {
          "base_uri": "https://localhost:8080/"
        },
        "id": "9R-ZLAerQSsC",
        "outputId": "1e5f8b4f-1d99-4416-d0c7-89381baf317d"
      },
      "source": [
        "#checking for missing values\n",
        "results.isnull().sum()"
      ],
      "execution_count": 10,
      "outputs": [
        {
          "output_type": "execute_result",
          "data": {
            "text/plain": [
              "date          0\n",
              "home_team     0\n",
              "away_team     0\n",
              "home_score    0\n",
              "away_score    0\n",
              "tournament    0\n",
              "city          0\n",
              "country       0\n",
              "neutral       0\n",
              "dtype: int64"
            ]
          },
          "metadata": {
            "tags": []
          },
          "execution_count": 10
        }
      ]
    },
    {
      "cell_type": "code",
      "metadata": {
        "colab": {
          "base_uri": "https://localhost:8080/"
        },
        "id": "MxRTPI8aSpIq",
        "outputId": "82427ee9-67d5-434b-d1e9-13296e4a7d30"
      },
      "source": [
        "#checking for duplicated values\n",
        "results.duplicated().sum()"
      ],
      "execution_count": 11,
      "outputs": [
        {
          "output_type": "execute_result",
          "data": {
            "text/plain": [
              "0"
            ]
          },
          "metadata": {
            "tags": []
          },
          "execution_count": 11
        }
      ]
    },
    {
      "cell_type": "code",
      "metadata": {
        "colab": {
          "base_uri": "https://localhost:8080/"
        },
        "id": "hRfuVLWZTHlM",
        "outputId": "55e7591c-4d18-46ce-8c7b-c4d1eb684237"
      },
      "source": [
        "results.columns"
      ],
      "execution_count": 12,
      "outputs": [
        {
          "output_type": "execute_result",
          "data": {
            "text/plain": [
              "Index(['date', 'home_team', 'away_team', 'home_score', 'away_score',\n",
              "       'tournament', 'city', 'country', 'neutral'],\n",
              "      dtype='object')"
            ]
          },
          "metadata": {
            "tags": []
          },
          "execution_count": 12
        }
      ]
    },
    {
      "cell_type": "code",
      "metadata": {
        "id": "bmLw3TzycuW2"
      },
      "source": [
        "#dropping columns that we will not need\n",
        "results.drop(['city'],axis=1, inplace=True)"
      ],
      "execution_count": 13,
      "outputs": []
    },
    {
      "cell_type": "code",
      "metadata": {
        "colab": {
          "base_uri": "https://localhost:8080/"
        },
        "id": "IHnHtGgXTLVV",
        "outputId": "16d61e55-163f-4e60-9c4c-8afea409cacc"
      },
      "source": [
        "#checking missing values\n",
        "ranking.isnull().sum()"
      ],
      "execution_count": 14,
      "outputs": [
        {
          "output_type": "execute_result",
          "data": {
            "text/plain": [
              "rank                       0\n",
              "country_full               0\n",
              "country_abrv               0\n",
              "total_points               0\n",
              "previous_points            0\n",
              "rank_change                0\n",
              "cur_year_avg               0\n",
              "cur_year_avg_weighted      0\n",
              "last_year_avg              0\n",
              "last_year_avg_weighted     0\n",
              "two_year_ago_avg           0\n",
              "two_year_ago_weighted      0\n",
              "three_year_ago_avg         0\n",
              "three_year_ago_weighted    0\n",
              "confederation              0\n",
              "rank_date                  0\n",
              "dtype: int64"
            ]
          },
          "metadata": {
            "tags": []
          },
          "execution_count": 14
        }
      ]
    },
    {
      "cell_type": "code",
      "metadata": {
        "colab": {
          "base_uri": "https://localhost:8080/"
        },
        "id": "_YkxC1QLTSOU",
        "outputId": "462c9820-bdbf-4187-ab2f-726259206270"
      },
      "source": [
        "#checking duplicated values\n",
        "ranking.duplicated().sum()"
      ],
      "execution_count": 15,
      "outputs": [
        {
          "output_type": "execute_result",
          "data": {
            "text/plain": [
              "37"
            ]
          },
          "metadata": {
            "tags": []
          },
          "execution_count": 15
        }
      ]
    },
    {
      "cell_type": "code",
      "metadata": {
        "id": "wm7BQTVtThXW"
      },
      "source": [
        "#dropping duplicated values\n",
        "ranking.drop_duplicates(inplace = True)"
      ],
      "execution_count": 16,
      "outputs": []
    },
    {
      "cell_type": "code",
      "metadata": {
        "colab": {
          "base_uri": "https://localhost:8080/"
        },
        "id": "PG1ygMZdTvUD",
        "outputId": "fc8b2e5a-df45-45b6-e442-0ddf3e0b9d7a"
      },
      "source": [
        "#confirming duplicated values\n",
        "ranking.duplicated().sum()"
      ],
      "execution_count": 17,
      "outputs": [
        {
          "output_type": "execute_result",
          "data": {
            "text/plain": [
              "0"
            ]
          },
          "metadata": {
            "tags": []
          },
          "execution_count": 17
        }
      ]
    },
    {
      "cell_type": "code",
      "metadata": {
        "colab": {
          "base_uri": "https://localhost:8080/"
        },
        "id": "6GPpzHVbTyAa",
        "outputId": "b835f8dc-aa3d-46cc-8b38-dfaa1b8d3c5f"
      },
      "source": [
        "ranking.columns"
      ],
      "execution_count": 18,
      "outputs": [
        {
          "output_type": "execute_result",
          "data": {
            "text/plain": [
              "Index(['rank', 'country_full', 'country_abrv', 'total_points',\n",
              "       'previous_points', 'rank_change', 'cur_year_avg',\n",
              "       'cur_year_avg_weighted', 'last_year_avg', 'last_year_avg_weighted',\n",
              "       'two_year_ago_avg', 'two_year_ago_weighted', 'three_year_ago_avg',\n",
              "       'three_year_ago_weighted', 'confederation', 'rank_date'],\n",
              "      dtype='object')"
            ]
          },
          "metadata": {
            "tags": []
          },
          "execution_count": 18
        }
      ]
    },
    {
      "cell_type": "code",
      "metadata": {
        "id": "PXYM2WawVzeL"
      },
      "source": [
        "#droping columns from ranking that we will not need\n",
        "ranking.drop(['country_abrv', 'total_points', 'previous_points', 'rank_change', 'cur_year_avg','cur_year_avg_weighted', 'last_year_avg',\t'last_year_avg_weighted', 'two_year_ago_avg',\t'two_year_ago_weighted', 'three_year_ago_avg',\t'three_year_ago_weighted', 'confederation'], axis = 1, inplace = True)"
      ],
      "execution_count": 19,
      "outputs": []
    },
    {
      "cell_type": "code",
      "metadata": {
        "colab": {
          "base_uri": "https://localhost:8080/"
        },
        "id": "K937qHV8WhOc",
        "outputId": "3676d042-b72a-47ea-ab29-3f96f8f259c4"
      },
      "source": [
        "ranking.columns"
      ],
      "execution_count": 20,
      "outputs": [
        {
          "output_type": "execute_result",
          "data": {
            "text/plain": [
              "Index(['rank', 'country_full', 'rank_date'], dtype='object')"
            ]
          },
          "metadata": {
            "tags": []
          },
          "execution_count": 20
        }
      ]
    },
    {
      "cell_type": "code",
      "metadata": {
        "colab": {
          "base_uri": "https://localhost:8080/",
          "height": 205
        },
        "id": "pAL2KSEnZwrO",
        "outputId": "bd52f86b-5d83-4bc6-c9a8-7274a7f66c00"
      },
      "source": [
        "#previewing cleaned ranking dataset\n",
        "ranking.head()"
      ],
      "execution_count": 21,
      "outputs": [
        {
          "output_type": "execute_result",
          "data": {
            "text/html": [
              "<div>\n",
              "<style scoped>\n",
              "    .dataframe tbody tr th:only-of-type {\n",
              "        vertical-align: middle;\n",
              "    }\n",
              "\n",
              "    .dataframe tbody tr th {\n",
              "        vertical-align: top;\n",
              "    }\n",
              "\n",
              "    .dataframe thead th {\n",
              "        text-align: right;\n",
              "    }\n",
              "</style>\n",
              "<table border=\"1\" class=\"dataframe\">\n",
              "  <thead>\n",
              "    <tr style=\"text-align: right;\">\n",
              "      <th></th>\n",
              "      <th>rank</th>\n",
              "      <th>country_full</th>\n",
              "      <th>rank_date</th>\n",
              "    </tr>\n",
              "  </thead>\n",
              "  <tbody>\n",
              "    <tr>\n",
              "      <th>0</th>\n",
              "      <td>1</td>\n",
              "      <td>Germany</td>\n",
              "      <td>1993-08-08</td>\n",
              "    </tr>\n",
              "    <tr>\n",
              "      <th>1</th>\n",
              "      <td>2</td>\n",
              "      <td>Italy</td>\n",
              "      <td>1993-08-08</td>\n",
              "    </tr>\n",
              "    <tr>\n",
              "      <th>2</th>\n",
              "      <td>3</td>\n",
              "      <td>Switzerland</td>\n",
              "      <td>1993-08-08</td>\n",
              "    </tr>\n",
              "    <tr>\n",
              "      <th>3</th>\n",
              "      <td>4</td>\n",
              "      <td>Sweden</td>\n",
              "      <td>1993-08-08</td>\n",
              "    </tr>\n",
              "    <tr>\n",
              "      <th>4</th>\n",
              "      <td>5</td>\n",
              "      <td>Argentina</td>\n",
              "      <td>1993-08-08</td>\n",
              "    </tr>\n",
              "  </tbody>\n",
              "</table>\n",
              "</div>"
            ],
            "text/plain": [
              "   rank country_full   rank_date\n",
              "0     1      Germany  1993-08-08\n",
              "1     2        Italy  1993-08-08\n",
              "2     3  Switzerland  1993-08-08\n",
              "3     4       Sweden  1993-08-08\n",
              "4     5    Argentina  1993-08-08"
            ]
          },
          "metadata": {
            "tags": []
          },
          "execution_count": 21
        }
      ]
    },
    {
      "cell_type": "code",
      "metadata": {
        "colab": {
          "base_uri": "https://localhost:8080/",
          "height": 205
        },
        "id": "dmnD9QvsZ04h",
        "outputId": "5c87ed14-8011-4a3c-b38d-935f6d14c184"
      },
      "source": [
        "#previewing cleaned results dataset\n",
        "results.head()"
      ],
      "execution_count": 22,
      "outputs": [
        {
          "output_type": "execute_result",
          "data": {
            "text/html": [
              "<div>\n",
              "<style scoped>\n",
              "    .dataframe tbody tr th:only-of-type {\n",
              "        vertical-align: middle;\n",
              "    }\n",
              "\n",
              "    .dataframe tbody tr th {\n",
              "        vertical-align: top;\n",
              "    }\n",
              "\n",
              "    .dataframe thead th {\n",
              "        text-align: right;\n",
              "    }\n",
              "</style>\n",
              "<table border=\"1\" class=\"dataframe\">\n",
              "  <thead>\n",
              "    <tr style=\"text-align: right;\">\n",
              "      <th></th>\n",
              "      <th>date</th>\n",
              "      <th>home_team</th>\n",
              "      <th>away_team</th>\n",
              "      <th>home_score</th>\n",
              "      <th>away_score</th>\n",
              "      <th>tournament</th>\n",
              "      <th>country</th>\n",
              "      <th>neutral</th>\n",
              "    </tr>\n",
              "  </thead>\n",
              "  <tbody>\n",
              "    <tr>\n",
              "      <th>0</th>\n",
              "      <td>1872-11-30</td>\n",
              "      <td>Scotland</td>\n",
              "      <td>England</td>\n",
              "      <td>0</td>\n",
              "      <td>0</td>\n",
              "      <td>Friendly</td>\n",
              "      <td>Scotland</td>\n",
              "      <td>False</td>\n",
              "    </tr>\n",
              "    <tr>\n",
              "      <th>1</th>\n",
              "      <td>1873-03-08</td>\n",
              "      <td>England</td>\n",
              "      <td>Scotland</td>\n",
              "      <td>4</td>\n",
              "      <td>2</td>\n",
              "      <td>Friendly</td>\n",
              "      <td>England</td>\n",
              "      <td>False</td>\n",
              "    </tr>\n",
              "    <tr>\n",
              "      <th>2</th>\n",
              "      <td>1874-03-07</td>\n",
              "      <td>Scotland</td>\n",
              "      <td>England</td>\n",
              "      <td>2</td>\n",
              "      <td>1</td>\n",
              "      <td>Friendly</td>\n",
              "      <td>Scotland</td>\n",
              "      <td>False</td>\n",
              "    </tr>\n",
              "    <tr>\n",
              "      <th>3</th>\n",
              "      <td>1875-03-06</td>\n",
              "      <td>England</td>\n",
              "      <td>Scotland</td>\n",
              "      <td>2</td>\n",
              "      <td>2</td>\n",
              "      <td>Friendly</td>\n",
              "      <td>England</td>\n",
              "      <td>False</td>\n",
              "    </tr>\n",
              "    <tr>\n",
              "      <th>4</th>\n",
              "      <td>1876-03-04</td>\n",
              "      <td>Scotland</td>\n",
              "      <td>England</td>\n",
              "      <td>3</td>\n",
              "      <td>0</td>\n",
              "      <td>Friendly</td>\n",
              "      <td>Scotland</td>\n",
              "      <td>False</td>\n",
              "    </tr>\n",
              "  </tbody>\n",
              "</table>\n",
              "</div>"
            ],
            "text/plain": [
              "         date home_team away_team  ...  tournament   country neutral\n",
              "0  1872-11-30  Scotland   England  ...    Friendly  Scotland   False\n",
              "1  1873-03-08   England  Scotland  ...    Friendly   England   False\n",
              "2  1874-03-07  Scotland   England  ...    Friendly  Scotland   False\n",
              "3  1875-03-06   England  Scotland  ...    Friendly   England   False\n",
              "4  1876-03-04  Scotland   England  ...    Friendly  Scotland   False\n",
              "\n",
              "[5 rows x 8 columns]"
            ]
          },
          "metadata": {
            "tags": []
          },
          "execution_count": 22
        }
      ]
    },
    {
      "cell_type": "code",
      "metadata": {
        "colab": {
          "base_uri": "https://localhost:8080/"
        },
        "id": "hUUhPVelaiDI",
        "outputId": "23ed6a03-da2e-4e9e-84ea-50ec089c28c2"
      },
      "source": [
        "#checking datatypes\n",
        "ranking.dtypes"
      ],
      "execution_count": 23,
      "outputs": [
        {
          "output_type": "execute_result",
          "data": {
            "text/plain": [
              "rank             int64\n",
              "country_full    object\n",
              "rank_date       object\n",
              "dtype: object"
            ]
          },
          "metadata": {
            "tags": []
          },
          "execution_count": 23
        }
      ]
    },
    {
      "cell_type": "code",
      "metadata": {
        "colab": {
          "base_uri": "https://localhost:8080/"
        },
        "id": "ee2CIV4ebTRY",
        "outputId": "b863eeeb-f1d5-437e-c4cf-1d8c7c230fe6"
      },
      "source": [
        "#checking datatypes\n",
        "results.dtypes"
      ],
      "execution_count": 24,
      "outputs": [
        {
          "output_type": "execute_result",
          "data": {
            "text/plain": [
              "date          object\n",
              "home_team     object\n",
              "away_team     object\n",
              "home_score     int64\n",
              "away_score     int64\n",
              "tournament    object\n",
              "country       object\n",
              "neutral         bool\n",
              "dtype: object"
            ]
          },
          "metadata": {
            "tags": []
          },
          "execution_count": 24
        }
      ]
    },
    {
      "cell_type": "code",
      "metadata": {
        "colab": {
          "base_uri": "https://localhost:8080/"
        },
        "id": "iq436-ECaoxh",
        "outputId": "ec4bd755-96f9-40c6-da5c-0ec81b420b19"
      },
      "source": [
        "#Changing date data type for both datasets to datetype fromobject\n",
        "ranking['rank_date'] = pd.to_datetime(ranking['rank_date'])\n",
        "results['date'] = pd.to_datetime(results['date'])\n",
        "print(results.info())\n",
        "print(ranking.info())"
      ],
      "execution_count": 25,
      "outputs": [
        {
          "output_type": "stream",
          "text": [
            "<class 'pandas.core.frame.DataFrame'>\n",
            "RangeIndex: 40839 entries, 0 to 40838\n",
            "Data columns (total 8 columns):\n",
            " #   Column      Non-Null Count  Dtype         \n",
            "---  ------      --------------  -----         \n",
            " 0   date        40839 non-null  datetime64[ns]\n",
            " 1   home_team   40839 non-null  object        \n",
            " 2   away_team   40839 non-null  object        \n",
            " 3   home_score  40839 non-null  int64         \n",
            " 4   away_score  40839 non-null  int64         \n",
            " 5   tournament  40839 non-null  object        \n",
            " 6   country     40839 non-null  object        \n",
            " 7   neutral     40839 non-null  bool          \n",
            "dtypes: bool(1), datetime64[ns](1), int64(2), object(4)\n",
            "memory usage: 2.2+ MB\n",
            "None\n",
            "<class 'pandas.core.frame.DataFrame'>\n",
            "Int64Index: 57756 entries, 0 to 57792\n",
            "Data columns (total 3 columns):\n",
            " #   Column        Non-Null Count  Dtype         \n",
            "---  ------        --------------  -----         \n",
            " 0   rank          57756 non-null  int64         \n",
            " 1   country_full  57756 non-null  object        \n",
            " 2   rank_date     57756 non-null  datetime64[ns]\n",
            "dtypes: datetime64[ns](1), int64(1), object(1)\n",
            "memory usage: 1.8+ MB\n",
            "None\n"
          ],
          "name": "stdout"
        }
      ]
    },
    {
      "cell_type": "code",
      "metadata": {
        "colab": {
          "base_uri": "https://localhost:8080/"
        },
        "id": "xsyA_I4oeah0",
        "outputId": "03d55b5f-69b2-4022-e2b9-1a764b01b439"
      },
      "source": [
        "#checking unique years\n",
        "results['year'] = results['date'].dt.year\n",
        "results.year.unique()\n"
      ],
      "execution_count": 26,
      "outputs": [
        {
          "output_type": "execute_result",
          "data": {
            "text/plain": [
              "array([1872, 1873, 1874, 1875, 1876, 1877, 1878, 1879, 1880, 1881, 1882,\n",
              "       1883, 1884, 1885, 1886, 1887, 1888, 1889, 1890, 1891, 1892, 1893,\n",
              "       1894, 1895, 1896, 1897, 1898, 1899, 1900, 1901, 1902, 1903, 1904,\n",
              "       1905, 1906, 1907, 1908, 1909, 1910, 1911, 1912, 1913, 1914, 1915,\n",
              "       1916, 1917, 1918, 1919, 1920, 1921, 1922, 1923, 1924, 1925, 1926,\n",
              "       1927, 1928, 1929, 1930, 1931, 1932, 1933, 1934, 1935, 1936, 1937,\n",
              "       1938, 1939, 1940, 1941, 1942, 1943, 1944, 1945, 1946, 1947, 1948,\n",
              "       1949, 1950, 1951, 1952, 1953, 1954, 1955, 1956, 1957, 1958, 1959,\n",
              "       1960, 1961, 1962, 1963, 1964, 1965, 1966, 1967, 1968, 1969, 1970,\n",
              "       1971, 1972, 1973, 1974, 1975, 1976, 1977, 1978, 1979, 1980, 1981,\n",
              "       1982, 1983, 1984, 1985, 1986, 1987, 1988, 1989, 1990, 1991, 1992,\n",
              "       1993, 1994, 1995, 1996, 1997, 1998, 1999, 2000, 2001, 2002, 2003,\n",
              "       2004, 2005, 2006, 2007, 2008, 2009, 2010, 2011, 2012, 2013, 2014,\n",
              "       2015, 2016, 2017, 2018, 2019])"
            ]
          },
          "metadata": {
            "tags": []
          },
          "execution_count": 26
        }
      ]
    },
    {
      "cell_type": "code",
      "metadata": {
        "colab": {
          "base_uri": "https://localhost:8080/"
        },
        "id": "4rMb7cSEevd3",
        "outputId": "0d70c7a6-8e56-4ffa-aecb-dbc0e108ae0b"
      },
      "source": [
        "#checking unique years\n",
        "ranking['year'] = ranking['rank_date'].dt.year\n",
        "ranking.year.unique()"
      ],
      "execution_count": 27,
      "outputs": [
        {
          "output_type": "execute_result",
          "data": {
            "text/plain": [
              "array([1993, 1994, 1995, 1996, 1997, 1998, 1999, 2000, 2001, 2002, 2003,\n",
              "       2004, 2005, 2006, 2007, 2008, 2009, 2010, 2011, 2012, 2013, 2014,\n",
              "       2015, 2016, 2017, 2018])"
            ]
          },
          "metadata": {
            "tags": []
          },
          "execution_count": 27
        }
      ]
    },
    {
      "cell_type": "code",
      "metadata": {
        "colab": {
          "base_uri": "https://localhost:8080/",
          "height": 422
        },
        "id": "PthzQBO2hkSw",
        "outputId": "881fe83b-a574-491e-dfac-65d0a34f9119"
      },
      "source": [
        "#resorted to using the year 2015-2018 Since it takes 4 years for worldcup to \n",
        "#occur. we ommittted 2019 because ranking dataset does not have 2019\n",
        "resultsf = results.loc[(results['year'] < 2019) & (results['year'] > 2014)]\n",
        "resultsf"
      ],
      "execution_count": 28,
      "outputs": [
        {
          "output_type": "execute_result",
          "data": {
            "text/html": [
              "<div>\n",
              "<style scoped>\n",
              "    .dataframe tbody tr th:only-of-type {\n",
              "        vertical-align: middle;\n",
              "    }\n",
              "\n",
              "    .dataframe tbody tr th {\n",
              "        vertical-align: top;\n",
              "    }\n",
              "\n",
              "    .dataframe thead th {\n",
              "        text-align: right;\n",
              "    }\n",
              "</style>\n",
              "<table border=\"1\" class=\"dataframe\">\n",
              "  <thead>\n",
              "    <tr style=\"text-align: right;\">\n",
              "      <th></th>\n",
              "      <th>date</th>\n",
              "      <th>home_team</th>\n",
              "      <th>away_team</th>\n",
              "      <th>home_score</th>\n",
              "      <th>away_score</th>\n",
              "      <th>tournament</th>\n",
              "      <th>country</th>\n",
              "      <th>neutral</th>\n",
              "      <th>year</th>\n",
              "    </tr>\n",
              "  </thead>\n",
              "  <tbody>\n",
              "    <tr>\n",
              "      <th>36609</th>\n",
              "      <td>2015-01-04</td>\n",
              "      <td>Bahrain</td>\n",
              "      <td>Jordan</td>\n",
              "      <td>1</td>\n",
              "      <td>0</td>\n",
              "      <td>Friendly</td>\n",
              "      <td>Australia</td>\n",
              "      <td>True</td>\n",
              "      <td>2015</td>\n",
              "    </tr>\n",
              "    <tr>\n",
              "      <th>36610</th>\n",
              "      <td>2015-01-04</td>\n",
              "      <td>Iran</td>\n",
              "      <td>Iraq</td>\n",
              "      <td>1</td>\n",
              "      <td>0</td>\n",
              "      <td>Friendly</td>\n",
              "      <td>Australia</td>\n",
              "      <td>True</td>\n",
              "      <td>2015</td>\n",
              "    </tr>\n",
              "    <tr>\n",
              "      <th>36611</th>\n",
              "      <td>2015-01-04</td>\n",
              "      <td>South Korea</td>\n",
              "      <td>Saudi Arabia</td>\n",
              "      <td>2</td>\n",
              "      <td>0</td>\n",
              "      <td>Friendly</td>\n",
              "      <td>Australia</td>\n",
              "      <td>True</td>\n",
              "      <td>2015</td>\n",
              "    </tr>\n",
              "    <tr>\n",
              "      <th>36612</th>\n",
              "      <td>2015-01-04</td>\n",
              "      <td>South Africa</td>\n",
              "      <td>Zambia</td>\n",
              "      <td>1</td>\n",
              "      <td>0</td>\n",
              "      <td>Friendly</td>\n",
              "      <td>South Africa</td>\n",
              "      <td>False</td>\n",
              "      <td>2015</td>\n",
              "    </tr>\n",
              "    <tr>\n",
              "      <th>36613</th>\n",
              "      <td>2015-01-05</td>\n",
              "      <td>China PR</td>\n",
              "      <td>Oman</td>\n",
              "      <td>4</td>\n",
              "      <td>1</td>\n",
              "      <td>Friendly</td>\n",
              "      <td>Australia</td>\n",
              "      <td>True</td>\n",
              "      <td>2015</td>\n",
              "    </tr>\n",
              "    <tr>\n",
              "      <th>...</th>\n",
              "      <td>...</td>\n",
              "      <td>...</td>\n",
              "      <td>...</td>\n",
              "      <td>...</td>\n",
              "      <td>...</td>\n",
              "      <td>...</td>\n",
              "      <td>...</td>\n",
              "      <td>...</td>\n",
              "      <td>...</td>\n",
              "    </tr>\n",
              "    <tr>\n",
              "      <th>40346</th>\n",
              "      <td>2018-12-30</td>\n",
              "      <td>Yemen</td>\n",
              "      <td>Syria</td>\n",
              "      <td>0</td>\n",
              "      <td>1</td>\n",
              "      <td>Friendly</td>\n",
              "      <td>United Arab Emirates</td>\n",
              "      <td>True</td>\n",
              "      <td>2018</td>\n",
              "    </tr>\n",
              "    <tr>\n",
              "      <th>40347</th>\n",
              "      <td>2018-12-31</td>\n",
              "      <td>South Korea</td>\n",
              "      <td>Saudi Arabia</td>\n",
              "      <td>0</td>\n",
              "      <td>0</td>\n",
              "      <td>Friendly</td>\n",
              "      <td>United Arab Emirates</td>\n",
              "      <td>True</td>\n",
              "      <td>2018</td>\n",
              "    </tr>\n",
              "    <tr>\n",
              "      <th>40348</th>\n",
              "      <td>2018-12-31</td>\n",
              "      <td>Kyrgyzstan</td>\n",
              "      <td>Palestine</td>\n",
              "      <td>2</td>\n",
              "      <td>1</td>\n",
              "      <td>Friendly</td>\n",
              "      <td>Qatar</td>\n",
              "      <td>True</td>\n",
              "      <td>2018</td>\n",
              "    </tr>\n",
              "    <tr>\n",
              "      <th>40349</th>\n",
              "      <td>2018-12-31</td>\n",
              "      <td>Philippines</td>\n",
              "      <td>Vietnam</td>\n",
              "      <td>2</td>\n",
              "      <td>4</td>\n",
              "      <td>Friendly</td>\n",
              "      <td>Qatar</td>\n",
              "      <td>True</td>\n",
              "      <td>2018</td>\n",
              "    </tr>\n",
              "    <tr>\n",
              "      <th>40350</th>\n",
              "      <td>2018-12-31</td>\n",
              "      <td>Qatar</td>\n",
              "      <td>Iran</td>\n",
              "      <td>1</td>\n",
              "      <td>2</td>\n",
              "      <td>Friendly</td>\n",
              "      <td>Qatar</td>\n",
              "      <td>False</td>\n",
              "      <td>2018</td>\n",
              "    </tr>\n",
              "  </tbody>\n",
              "</table>\n",
              "<p>3742 rows × 9 columns</p>\n",
              "</div>"
            ],
            "text/plain": [
              "            date     home_team  ... neutral  year\n",
              "36609 2015-01-04       Bahrain  ...    True  2015\n",
              "36610 2015-01-04          Iran  ...    True  2015\n",
              "36611 2015-01-04   South Korea  ...    True  2015\n",
              "36612 2015-01-04  South Africa  ...   False  2015\n",
              "36613 2015-01-05      China PR  ...    True  2015\n",
              "...          ...           ...  ...     ...   ...\n",
              "40346 2018-12-30         Yemen  ...    True  2018\n",
              "40347 2018-12-31   South Korea  ...    True  2018\n",
              "40348 2018-12-31    Kyrgyzstan  ...    True  2018\n",
              "40349 2018-12-31   Philippines  ...    True  2018\n",
              "40350 2018-12-31         Qatar  ...   False  2018\n",
              "\n",
              "[3742 rows x 9 columns]"
            ]
          },
          "metadata": {
            "tags": []
          },
          "execution_count": 28
        }
      ]
    },
    {
      "cell_type": "code",
      "metadata": {
        "colab": {
          "base_uri": "https://localhost:8080/",
          "height": 701
        },
        "id": "l0_TtDlsjtiy",
        "outputId": "41c03ff5-9c7f-4e67-eb9f-0c119e2be624"
      },
      "source": [
        "#merge our final results dataset to ranking dataset based on the home_team column\n",
        "mergeddataset = resultsf.merge(ranking, left_on=['home_team', 'year'], right_on=['country_full', 'year'], how='inner')\n",
        "mergeddataset"
      ],
      "execution_count": 29,
      "outputs": [
        {
          "output_type": "execute_result",
          "data": {
            "text/html": [
              "<div>\n",
              "<style scoped>\n",
              "    .dataframe tbody tr th:only-of-type {\n",
              "        vertical-align: middle;\n",
              "    }\n",
              "\n",
              "    .dataframe tbody tr th {\n",
              "        vertical-align: top;\n",
              "    }\n",
              "\n",
              "    .dataframe thead th {\n",
              "        text-align: right;\n",
              "    }\n",
              "</style>\n",
              "<table border=\"1\" class=\"dataframe\">\n",
              "  <thead>\n",
              "    <tr style=\"text-align: right;\">\n",
              "      <th></th>\n",
              "      <th>date</th>\n",
              "      <th>home_team</th>\n",
              "      <th>away_team</th>\n",
              "      <th>home_score</th>\n",
              "      <th>away_score</th>\n",
              "      <th>tournament</th>\n",
              "      <th>country</th>\n",
              "      <th>neutral</th>\n",
              "      <th>year</th>\n",
              "      <th>rank</th>\n",
              "      <th>country_full</th>\n",
              "      <th>rank_date</th>\n",
              "    </tr>\n",
              "  </thead>\n",
              "  <tbody>\n",
              "    <tr>\n",
              "      <th>0</th>\n",
              "      <td>2015-01-04</td>\n",
              "      <td>Bahrain</td>\n",
              "      <td>Jordan</td>\n",
              "      <td>1</td>\n",
              "      <td>0</td>\n",
              "      <td>Friendly</td>\n",
              "      <td>Australia</td>\n",
              "      <td>True</td>\n",
              "      <td>2015</td>\n",
              "      <td>110</td>\n",
              "      <td>Bahrain</td>\n",
              "      <td>2015-01-08</td>\n",
              "    </tr>\n",
              "    <tr>\n",
              "      <th>1</th>\n",
              "      <td>2015-01-04</td>\n",
              "      <td>Bahrain</td>\n",
              "      <td>Jordan</td>\n",
              "      <td>1</td>\n",
              "      <td>0</td>\n",
              "      <td>Friendly</td>\n",
              "      <td>Australia</td>\n",
              "      <td>True</td>\n",
              "      <td>2015</td>\n",
              "      <td>103</td>\n",
              "      <td>Bahrain</td>\n",
              "      <td>2015-02-12</td>\n",
              "    </tr>\n",
              "    <tr>\n",
              "      <th>2</th>\n",
              "      <td>2015-01-04</td>\n",
              "      <td>Bahrain</td>\n",
              "      <td>Jordan</td>\n",
              "      <td>1</td>\n",
              "      <td>0</td>\n",
              "      <td>Friendly</td>\n",
              "      <td>Australia</td>\n",
              "      <td>True</td>\n",
              "      <td>2015</td>\n",
              "      <td>104</td>\n",
              "      <td>Bahrain</td>\n",
              "      <td>2015-03-12</td>\n",
              "    </tr>\n",
              "    <tr>\n",
              "      <th>3</th>\n",
              "      <td>2015-01-04</td>\n",
              "      <td>Bahrain</td>\n",
              "      <td>Jordan</td>\n",
              "      <td>1</td>\n",
              "      <td>0</td>\n",
              "      <td>Friendly</td>\n",
              "      <td>Australia</td>\n",
              "      <td>True</td>\n",
              "      <td>2015</td>\n",
              "      <td>108</td>\n",
              "      <td>Bahrain</td>\n",
              "      <td>2015-04-09</td>\n",
              "    </tr>\n",
              "    <tr>\n",
              "      <th>4</th>\n",
              "      <td>2015-01-04</td>\n",
              "      <td>Bahrain</td>\n",
              "      <td>Jordan</td>\n",
              "      <td>1</td>\n",
              "      <td>0</td>\n",
              "      <td>Friendly</td>\n",
              "      <td>Australia</td>\n",
              "      <td>True</td>\n",
              "      <td>2015</td>\n",
              "      <td>108</td>\n",
              "      <td>Bahrain</td>\n",
              "      <td>2015-05-07</td>\n",
              "    </tr>\n",
              "    <tr>\n",
              "      <th>...</th>\n",
              "      <td>...</td>\n",
              "      <td>...</td>\n",
              "      <td>...</td>\n",
              "      <td>...</td>\n",
              "      <td>...</td>\n",
              "      <td>...</td>\n",
              "      <td>...</td>\n",
              "      <td>...</td>\n",
              "      <td>...</td>\n",
              "      <td>...</td>\n",
              "      <td>...</td>\n",
              "      <td>...</td>\n",
              "    </tr>\n",
              "    <tr>\n",
              "      <th>34307</th>\n",
              "      <td>2018-11-16</td>\n",
              "      <td>South Sudan</td>\n",
              "      <td>Burundi</td>\n",
              "      <td>2</td>\n",
              "      <td>5</td>\n",
              "      <td>African Cup of Nations qualification</td>\n",
              "      <td>South Sudan</td>\n",
              "      <td>False</td>\n",
              "      <td>2018</td>\n",
              "      <td>153</td>\n",
              "      <td>South Sudan</td>\n",
              "      <td>2018-02-15</td>\n",
              "    </tr>\n",
              "    <tr>\n",
              "      <th>34308</th>\n",
              "      <td>2018-11-16</td>\n",
              "      <td>South Sudan</td>\n",
              "      <td>Burundi</td>\n",
              "      <td>2</td>\n",
              "      <td>5</td>\n",
              "      <td>African Cup of Nations qualification</td>\n",
              "      <td>South Sudan</td>\n",
              "      <td>False</td>\n",
              "      <td>2018</td>\n",
              "      <td>154</td>\n",
              "      <td>South Sudan</td>\n",
              "      <td>2018-03-15</td>\n",
              "    </tr>\n",
              "    <tr>\n",
              "      <th>34309</th>\n",
              "      <td>2018-11-16</td>\n",
              "      <td>South Sudan</td>\n",
              "      <td>Burundi</td>\n",
              "      <td>2</td>\n",
              "      <td>5</td>\n",
              "      <td>African Cup of Nations qualification</td>\n",
              "      <td>South Sudan</td>\n",
              "      <td>False</td>\n",
              "      <td>2018</td>\n",
              "      <td>155</td>\n",
              "      <td>South Sudan</td>\n",
              "      <td>2018-04-12</td>\n",
              "    </tr>\n",
              "    <tr>\n",
              "      <th>34310</th>\n",
              "      <td>2018-11-16</td>\n",
              "      <td>South Sudan</td>\n",
              "      <td>Burundi</td>\n",
              "      <td>2</td>\n",
              "      <td>5</td>\n",
              "      <td>African Cup of Nations qualification</td>\n",
              "      <td>South Sudan</td>\n",
              "      <td>False</td>\n",
              "      <td>2018</td>\n",
              "      <td>157</td>\n",
              "      <td>South Sudan</td>\n",
              "      <td>2018-05-17</td>\n",
              "    </tr>\n",
              "    <tr>\n",
              "      <th>34311</th>\n",
              "      <td>2018-11-16</td>\n",
              "      <td>South Sudan</td>\n",
              "      <td>Burundi</td>\n",
              "      <td>2</td>\n",
              "      <td>5</td>\n",
              "      <td>African Cup of Nations qualification</td>\n",
              "      <td>South Sudan</td>\n",
              "      <td>False</td>\n",
              "      <td>2018</td>\n",
              "      <td>156</td>\n",
              "      <td>South Sudan</td>\n",
              "      <td>2018-06-07</td>\n",
              "    </tr>\n",
              "  </tbody>\n",
              "</table>\n",
              "<p>34312 rows × 12 columns</p>\n",
              "</div>"
            ],
            "text/plain": [
              "            date    home_team away_team  ...  rank  country_full  rank_date\n",
              "0     2015-01-04      Bahrain    Jordan  ...   110       Bahrain 2015-01-08\n",
              "1     2015-01-04      Bahrain    Jordan  ...   103       Bahrain 2015-02-12\n",
              "2     2015-01-04      Bahrain    Jordan  ...   104       Bahrain 2015-03-12\n",
              "3     2015-01-04      Bahrain    Jordan  ...   108       Bahrain 2015-04-09\n",
              "4     2015-01-04      Bahrain    Jordan  ...   108       Bahrain 2015-05-07\n",
              "...          ...          ...       ...  ...   ...           ...        ...\n",
              "34307 2018-11-16  South Sudan   Burundi  ...   153   South Sudan 2018-02-15\n",
              "34308 2018-11-16  South Sudan   Burundi  ...   154   South Sudan 2018-03-15\n",
              "34309 2018-11-16  South Sudan   Burundi  ...   155   South Sudan 2018-04-12\n",
              "34310 2018-11-16  South Sudan   Burundi  ...   157   South Sudan 2018-05-17\n",
              "34311 2018-11-16  South Sudan   Burundi  ...   156   South Sudan 2018-06-07\n",
              "\n",
              "[34312 rows x 12 columns]"
            ]
          },
          "metadata": {
            "tags": []
          },
          "execution_count": 29
        }
      ]
    },
    {
      "cell_type": "code",
      "metadata": {
        "colab": {
          "base_uri": "https://localhost:8080/",
          "height": 701
        },
        "id": "WZ0pP7Zdk7Du",
        "outputId": "986b8078-2a63-43a5-8ce5-82e7c0cbb92e"
      },
      "source": [
        "#merge the merged dataset again to the ranking column based on the away team column\n",
        "mergeddataset = mergeddataset.merge(ranking, left_on=['away_team', 'year'], right_on=['country_full', 'year'], how='inner')\n",
        "mergeddataset"
      ],
      "execution_count": 30,
      "outputs": [
        {
          "output_type": "execute_result",
          "data": {
            "text/html": [
              "<div>\n",
              "<style scoped>\n",
              "    .dataframe tbody tr th:only-of-type {\n",
              "        vertical-align: middle;\n",
              "    }\n",
              "\n",
              "    .dataframe tbody tr th {\n",
              "        vertical-align: top;\n",
              "    }\n",
              "\n",
              "    .dataframe thead th {\n",
              "        text-align: right;\n",
              "    }\n",
              "</style>\n",
              "<table border=\"1\" class=\"dataframe\">\n",
              "  <thead>\n",
              "    <tr style=\"text-align: right;\">\n",
              "      <th></th>\n",
              "      <th>date</th>\n",
              "      <th>home_team</th>\n",
              "      <th>away_team</th>\n",
              "      <th>home_score</th>\n",
              "      <th>away_score</th>\n",
              "      <th>tournament</th>\n",
              "      <th>country</th>\n",
              "      <th>neutral</th>\n",
              "      <th>year</th>\n",
              "      <th>rank_x</th>\n",
              "      <th>country_full_x</th>\n",
              "      <th>rank_date_x</th>\n",
              "      <th>rank_y</th>\n",
              "      <th>country_full_y</th>\n",
              "      <th>rank_date_y</th>\n",
              "    </tr>\n",
              "  </thead>\n",
              "  <tbody>\n",
              "    <tr>\n",
              "      <th>0</th>\n",
              "      <td>2015-01-04</td>\n",
              "      <td>Bahrain</td>\n",
              "      <td>Jordan</td>\n",
              "      <td>1</td>\n",
              "      <td>0</td>\n",
              "      <td>Friendly</td>\n",
              "      <td>Australia</td>\n",
              "      <td>True</td>\n",
              "      <td>2015</td>\n",
              "      <td>110</td>\n",
              "      <td>Bahrain</td>\n",
              "      <td>2015-01-08</td>\n",
              "      <td>93</td>\n",
              "      <td>Jordan</td>\n",
              "      <td>2015-01-08</td>\n",
              "    </tr>\n",
              "    <tr>\n",
              "      <th>1</th>\n",
              "      <td>2015-01-04</td>\n",
              "      <td>Bahrain</td>\n",
              "      <td>Jordan</td>\n",
              "      <td>1</td>\n",
              "      <td>0</td>\n",
              "      <td>Friendly</td>\n",
              "      <td>Australia</td>\n",
              "      <td>True</td>\n",
              "      <td>2015</td>\n",
              "      <td>110</td>\n",
              "      <td>Bahrain</td>\n",
              "      <td>2015-01-08</td>\n",
              "      <td>97</td>\n",
              "      <td>Jordan</td>\n",
              "      <td>2015-02-12</td>\n",
              "    </tr>\n",
              "    <tr>\n",
              "      <th>2</th>\n",
              "      <td>2015-01-04</td>\n",
              "      <td>Bahrain</td>\n",
              "      <td>Jordan</td>\n",
              "      <td>1</td>\n",
              "      <td>0</td>\n",
              "      <td>Friendly</td>\n",
              "      <td>Australia</td>\n",
              "      <td>True</td>\n",
              "      <td>2015</td>\n",
              "      <td>110</td>\n",
              "      <td>Bahrain</td>\n",
              "      <td>2015-01-08</td>\n",
              "      <td>101</td>\n",
              "      <td>Jordan</td>\n",
              "      <td>2015-03-12</td>\n",
              "    </tr>\n",
              "    <tr>\n",
              "      <th>3</th>\n",
              "      <td>2015-01-04</td>\n",
              "      <td>Bahrain</td>\n",
              "      <td>Jordan</td>\n",
              "      <td>1</td>\n",
              "      <td>0</td>\n",
              "      <td>Friendly</td>\n",
              "      <td>Australia</td>\n",
              "      <td>True</td>\n",
              "      <td>2015</td>\n",
              "      <td>110</td>\n",
              "      <td>Bahrain</td>\n",
              "      <td>2015-01-08</td>\n",
              "      <td>103</td>\n",
              "      <td>Jordan</td>\n",
              "      <td>2015-04-09</td>\n",
              "    </tr>\n",
              "    <tr>\n",
              "      <th>4</th>\n",
              "      <td>2015-01-04</td>\n",
              "      <td>Bahrain</td>\n",
              "      <td>Jordan</td>\n",
              "      <td>1</td>\n",
              "      <td>0</td>\n",
              "      <td>Friendly</td>\n",
              "      <td>Australia</td>\n",
              "      <td>True</td>\n",
              "      <td>2015</td>\n",
              "      <td>110</td>\n",
              "      <td>Bahrain</td>\n",
              "      <td>2015-01-08</td>\n",
              "      <td>103</td>\n",
              "      <td>Jordan</td>\n",
              "      <td>2015-05-07</td>\n",
              "    </tr>\n",
              "    <tr>\n",
              "      <th>...</th>\n",
              "      <td>...</td>\n",
              "      <td>...</td>\n",
              "      <td>...</td>\n",
              "      <td>...</td>\n",
              "      <td>...</td>\n",
              "      <td>...</td>\n",
              "      <td>...</td>\n",
              "      <td>...</td>\n",
              "      <td>...</td>\n",
              "      <td>...</td>\n",
              "      <td>...</td>\n",
              "      <td>...</td>\n",
              "      <td>...</td>\n",
              "      <td>...</td>\n",
              "      <td>...</td>\n",
              "    </tr>\n",
              "    <tr>\n",
              "      <th>347875</th>\n",
              "      <td>2018-10-12</td>\n",
              "      <td>Togo</td>\n",
              "      <td>Gambia</td>\n",
              "      <td>1</td>\n",
              "      <td>1</td>\n",
              "      <td>African Cup of Nations qualification</td>\n",
              "      <td>Togo</td>\n",
              "      <td>False</td>\n",
              "      <td>2018</td>\n",
              "      <td>125</td>\n",
              "      <td>Togo</td>\n",
              "      <td>2018-06-07</td>\n",
              "      <td>163</td>\n",
              "      <td>Gambia</td>\n",
              "      <td>2018-02-15</td>\n",
              "    </tr>\n",
              "    <tr>\n",
              "      <th>347876</th>\n",
              "      <td>2018-10-12</td>\n",
              "      <td>Togo</td>\n",
              "      <td>Gambia</td>\n",
              "      <td>1</td>\n",
              "      <td>1</td>\n",
              "      <td>African Cup of Nations qualification</td>\n",
              "      <td>Togo</td>\n",
              "      <td>False</td>\n",
              "      <td>2018</td>\n",
              "      <td>125</td>\n",
              "      <td>Togo</td>\n",
              "      <td>2018-06-07</td>\n",
              "      <td>164</td>\n",
              "      <td>Gambia</td>\n",
              "      <td>2018-03-15</td>\n",
              "    </tr>\n",
              "    <tr>\n",
              "      <th>347877</th>\n",
              "      <td>2018-10-12</td>\n",
              "      <td>Togo</td>\n",
              "      <td>Gambia</td>\n",
              "      <td>1</td>\n",
              "      <td>1</td>\n",
              "      <td>African Cup of Nations qualification</td>\n",
              "      <td>Togo</td>\n",
              "      <td>False</td>\n",
              "      <td>2018</td>\n",
              "      <td>125</td>\n",
              "      <td>Togo</td>\n",
              "      <td>2018-06-07</td>\n",
              "      <td>175</td>\n",
              "      <td>Gambia</td>\n",
              "      <td>2018-04-12</td>\n",
              "    </tr>\n",
              "    <tr>\n",
              "      <th>347878</th>\n",
              "      <td>2018-10-12</td>\n",
              "      <td>Togo</td>\n",
              "      <td>Gambia</td>\n",
              "      <td>1</td>\n",
              "      <td>1</td>\n",
              "      <td>African Cup of Nations qualification</td>\n",
              "      <td>Togo</td>\n",
              "      <td>False</td>\n",
              "      <td>2018</td>\n",
              "      <td>125</td>\n",
              "      <td>Togo</td>\n",
              "      <td>2018-06-07</td>\n",
              "      <td>175</td>\n",
              "      <td>Gambia</td>\n",
              "      <td>2018-05-17</td>\n",
              "    </tr>\n",
              "    <tr>\n",
              "      <th>347879</th>\n",
              "      <td>2018-10-12</td>\n",
              "      <td>Togo</td>\n",
              "      <td>Gambia</td>\n",
              "      <td>1</td>\n",
              "      <td>1</td>\n",
              "      <td>African Cup of Nations qualification</td>\n",
              "      <td>Togo</td>\n",
              "      <td>False</td>\n",
              "      <td>2018</td>\n",
              "      <td>125</td>\n",
              "      <td>Togo</td>\n",
              "      <td>2018-06-07</td>\n",
              "      <td>172</td>\n",
              "      <td>Gambia</td>\n",
              "      <td>2018-06-07</td>\n",
              "    </tr>\n",
              "  </tbody>\n",
              "</table>\n",
              "<p>347880 rows × 15 columns</p>\n",
              "</div>"
            ],
            "text/plain": [
              "             date home_team away_team  ...  rank_y  country_full_y rank_date_y\n",
              "0      2015-01-04   Bahrain    Jordan  ...      93          Jordan  2015-01-08\n",
              "1      2015-01-04   Bahrain    Jordan  ...      97          Jordan  2015-02-12\n",
              "2      2015-01-04   Bahrain    Jordan  ...     101          Jordan  2015-03-12\n",
              "3      2015-01-04   Bahrain    Jordan  ...     103          Jordan  2015-04-09\n",
              "4      2015-01-04   Bahrain    Jordan  ...     103          Jordan  2015-05-07\n",
              "...           ...       ...       ...  ...     ...             ...         ...\n",
              "347875 2018-10-12      Togo    Gambia  ...     163          Gambia  2018-02-15\n",
              "347876 2018-10-12      Togo    Gambia  ...     164          Gambia  2018-03-15\n",
              "347877 2018-10-12      Togo    Gambia  ...     175          Gambia  2018-04-12\n",
              "347878 2018-10-12      Togo    Gambia  ...     175          Gambia  2018-05-17\n",
              "347879 2018-10-12      Togo    Gambia  ...     172          Gambia  2018-06-07\n",
              "\n",
              "[347880 rows x 15 columns]"
            ]
          },
          "metadata": {
            "tags": []
          },
          "execution_count": 30
        }
      ]
    },
    {
      "cell_type": "code",
      "metadata": {
        "colab": {
          "base_uri": "https://localhost:8080/"
        },
        "id": "F1kA2j9Fmp1M",
        "outputId": "32c8cc33-8b4f-457a-cb7b-495bcb70b570"
      },
      "source": [
        "#get information of our final merged dataset\n",
        "mergeddataset.info"
      ],
      "execution_count": 31,
      "outputs": [
        {
          "output_type": "execute_result",
          "data": {
            "text/plain": [
              "<bound method DataFrame.info of              date home_team away_team  ...  rank_y  country_full_y rank_date_y\n",
              "0      2015-01-04   Bahrain    Jordan  ...      93          Jordan  2015-01-08\n",
              "1      2015-01-04   Bahrain    Jordan  ...      97          Jordan  2015-02-12\n",
              "2      2015-01-04   Bahrain    Jordan  ...     101          Jordan  2015-03-12\n",
              "3      2015-01-04   Bahrain    Jordan  ...     103          Jordan  2015-04-09\n",
              "4      2015-01-04   Bahrain    Jordan  ...     103          Jordan  2015-05-07\n",
              "...           ...       ...       ...  ...     ...             ...         ...\n",
              "347875 2018-10-12      Togo    Gambia  ...     163          Gambia  2018-02-15\n",
              "347876 2018-10-12      Togo    Gambia  ...     164          Gambia  2018-03-15\n",
              "347877 2018-10-12      Togo    Gambia  ...     175          Gambia  2018-04-12\n",
              "347878 2018-10-12      Togo    Gambia  ...     175          Gambia  2018-05-17\n",
              "347879 2018-10-12      Togo    Gambia  ...     172          Gambia  2018-06-07\n",
              "\n",
              "[347880 rows x 15 columns]>"
            ]
          },
          "metadata": {
            "tags": []
          },
          "execution_count": 31
        }
      ]
    },
    {
      "cell_type": "code",
      "metadata": {
        "colab": {
          "base_uri": "https://localhost:8080/"
        },
        "id": "3qZklC-4mxIq",
        "outputId": "93651433-5f99-4d3d-c309-ae44121a65b3"
      },
      "source": [
        "#check our merged dataset columns\n",
        "mergeddataset.columns"
      ],
      "execution_count": 32,
      "outputs": [
        {
          "output_type": "execute_result",
          "data": {
            "text/plain": [
              "Index(['date', 'home_team', 'away_team', 'home_score', 'away_score',\n",
              "       'tournament', 'country', 'neutral', 'year', 'rank_x', 'country_full_x',\n",
              "       'rank_date_x', 'rank_y', 'country_full_y', 'rank_date_y'],\n",
              "      dtype='object')"
            ]
          },
          "metadata": {
            "tags": []
          },
          "execution_count": 32
        }
      ]
    },
    {
      "cell_type": "code",
      "metadata": {
        "id": "0Z3b_1jKnV1m"
      },
      "source": [
        "#drop unneeded columns from our merged dataset\n",
        "mergeddataset = mergeddataset.drop(columns=[ 'country', 'neutral', 'year', 'country_full_x', 'country_full_y'])"
      ],
      "execution_count": 33,
      "outputs": []
    },
    {
      "cell_type": "code",
      "metadata": {
        "colab": {
          "base_uri": "https://localhost:8080/",
          "height": 681
        },
        "id": "9E_NRxiznwzf",
        "outputId": "84396847-8687-4d2b-e893-d7a0128dbc19"
      },
      "source": [
        "#reduce our merged dataset to dates that match\n",
        "mergeddataset = mergeddataset[mergeddataset.rank_date_x == mergeddataset.rank_date_y]\n",
        "mergeddataset"
      ],
      "execution_count": 34,
      "outputs": [
        {
          "output_type": "execute_result",
          "data": {
            "text/html": [
              "<div>\n",
              "<style scoped>\n",
              "    .dataframe tbody tr th:only-of-type {\n",
              "        vertical-align: middle;\n",
              "    }\n",
              "\n",
              "    .dataframe tbody tr th {\n",
              "        vertical-align: top;\n",
              "    }\n",
              "\n",
              "    .dataframe thead th {\n",
              "        text-align: right;\n",
              "    }\n",
              "</style>\n",
              "<table border=\"1\" class=\"dataframe\">\n",
              "  <thead>\n",
              "    <tr style=\"text-align: right;\">\n",
              "      <th></th>\n",
              "      <th>date</th>\n",
              "      <th>home_team</th>\n",
              "      <th>away_team</th>\n",
              "      <th>home_score</th>\n",
              "      <th>away_score</th>\n",
              "      <th>tournament</th>\n",
              "      <th>rank_x</th>\n",
              "      <th>rank_date_x</th>\n",
              "      <th>rank_y</th>\n",
              "      <th>rank_date_y</th>\n",
              "    </tr>\n",
              "  </thead>\n",
              "  <tbody>\n",
              "    <tr>\n",
              "      <th>0</th>\n",
              "      <td>2015-01-04</td>\n",
              "      <td>Bahrain</td>\n",
              "      <td>Jordan</td>\n",
              "      <td>1</td>\n",
              "      <td>0</td>\n",
              "      <td>Friendly</td>\n",
              "      <td>110</td>\n",
              "      <td>2015-01-08</td>\n",
              "      <td>93</td>\n",
              "      <td>2015-01-08</td>\n",
              "    </tr>\n",
              "    <tr>\n",
              "      <th>13</th>\n",
              "      <td>2015-01-04</td>\n",
              "      <td>Bahrain</td>\n",
              "      <td>Jordan</td>\n",
              "      <td>1</td>\n",
              "      <td>0</td>\n",
              "      <td>Friendly</td>\n",
              "      <td>103</td>\n",
              "      <td>2015-02-12</td>\n",
              "      <td>97</td>\n",
              "      <td>2015-02-12</td>\n",
              "    </tr>\n",
              "    <tr>\n",
              "      <th>26</th>\n",
              "      <td>2015-01-04</td>\n",
              "      <td>Bahrain</td>\n",
              "      <td>Jordan</td>\n",
              "      <td>1</td>\n",
              "      <td>0</td>\n",
              "      <td>Friendly</td>\n",
              "      <td>104</td>\n",
              "      <td>2015-03-12</td>\n",
              "      <td>101</td>\n",
              "      <td>2015-03-12</td>\n",
              "    </tr>\n",
              "    <tr>\n",
              "      <th>39</th>\n",
              "      <td>2015-01-04</td>\n",
              "      <td>Bahrain</td>\n",
              "      <td>Jordan</td>\n",
              "      <td>1</td>\n",
              "      <td>0</td>\n",
              "      <td>Friendly</td>\n",
              "      <td>108</td>\n",
              "      <td>2015-04-09</td>\n",
              "      <td>103</td>\n",
              "      <td>2015-04-09</td>\n",
              "    </tr>\n",
              "    <tr>\n",
              "      <th>52</th>\n",
              "      <td>2015-01-04</td>\n",
              "      <td>Bahrain</td>\n",
              "      <td>Jordan</td>\n",
              "      <td>1</td>\n",
              "      <td>0</td>\n",
              "      <td>Friendly</td>\n",
              "      <td>108</td>\n",
              "      <td>2015-05-07</td>\n",
              "      <td>103</td>\n",
              "      <td>2015-05-07</td>\n",
              "    </tr>\n",
              "    <tr>\n",
              "      <th>...</th>\n",
              "      <td>...</td>\n",
              "      <td>...</td>\n",
              "      <td>...</td>\n",
              "      <td>...</td>\n",
              "      <td>...</td>\n",
              "      <td>...</td>\n",
              "      <td>...</td>\n",
              "      <td>...</td>\n",
              "      <td>...</td>\n",
              "      <td>...</td>\n",
              "    </tr>\n",
              "    <tr>\n",
              "      <th>347851</th>\n",
              "      <td>2018-10-12</td>\n",
              "      <td>Togo</td>\n",
              "      <td>Gambia</td>\n",
              "      <td>1</td>\n",
              "      <td>1</td>\n",
              "      <td>African Cup of Nations qualification</td>\n",
              "      <td>128</td>\n",
              "      <td>2018-02-15</td>\n",
              "      <td>163</td>\n",
              "      <td>2018-02-15</td>\n",
              "    </tr>\n",
              "    <tr>\n",
              "      <th>347858</th>\n",
              "      <td>2018-10-12</td>\n",
              "      <td>Togo</td>\n",
              "      <td>Gambia</td>\n",
              "      <td>1</td>\n",
              "      <td>1</td>\n",
              "      <td>African Cup of Nations qualification</td>\n",
              "      <td>128</td>\n",
              "      <td>2018-03-15</td>\n",
              "      <td>164</td>\n",
              "      <td>2018-03-15</td>\n",
              "    </tr>\n",
              "    <tr>\n",
              "      <th>347865</th>\n",
              "      <td>2018-10-12</td>\n",
              "      <td>Togo</td>\n",
              "      <td>Gambia</td>\n",
              "      <td>1</td>\n",
              "      <td>1</td>\n",
              "      <td>African Cup of Nations qualification</td>\n",
              "      <td>129</td>\n",
              "      <td>2018-04-12</td>\n",
              "      <td>175</td>\n",
              "      <td>2018-04-12</td>\n",
              "    </tr>\n",
              "    <tr>\n",
              "      <th>347872</th>\n",
              "      <td>2018-10-12</td>\n",
              "      <td>Togo</td>\n",
              "      <td>Gambia</td>\n",
              "      <td>1</td>\n",
              "      <td>1</td>\n",
              "      <td>African Cup of Nations qualification</td>\n",
              "      <td>128</td>\n",
              "      <td>2018-05-17</td>\n",
              "      <td>175</td>\n",
              "      <td>2018-05-17</td>\n",
              "    </tr>\n",
              "    <tr>\n",
              "      <th>347879</th>\n",
              "      <td>2018-10-12</td>\n",
              "      <td>Togo</td>\n",
              "      <td>Gambia</td>\n",
              "      <td>1</td>\n",
              "      <td>1</td>\n",
              "      <td>African Cup of Nations qualification</td>\n",
              "      <td>125</td>\n",
              "      <td>2018-06-07</td>\n",
              "      <td>172</td>\n",
              "      <td>2018-06-07</td>\n",
              "    </tr>\n",
              "  </tbody>\n",
              "</table>\n",
              "<p>31066 rows × 10 columns</p>\n",
              "</div>"
            ],
            "text/plain": [
              "             date home_team away_team  ...  rank_date_x  rank_y rank_date_y\n",
              "0      2015-01-04   Bahrain    Jordan  ...   2015-01-08      93  2015-01-08\n",
              "13     2015-01-04   Bahrain    Jordan  ...   2015-02-12      97  2015-02-12\n",
              "26     2015-01-04   Bahrain    Jordan  ...   2015-03-12     101  2015-03-12\n",
              "39     2015-01-04   Bahrain    Jordan  ...   2015-04-09     103  2015-04-09\n",
              "52     2015-01-04   Bahrain    Jordan  ...   2015-05-07     103  2015-05-07\n",
              "...           ...       ...       ...  ...          ...     ...         ...\n",
              "347851 2018-10-12      Togo    Gambia  ...   2018-02-15     163  2018-02-15\n",
              "347858 2018-10-12      Togo    Gambia  ...   2018-03-15     164  2018-03-15\n",
              "347865 2018-10-12      Togo    Gambia  ...   2018-04-12     175  2018-04-12\n",
              "347872 2018-10-12      Togo    Gambia  ...   2018-05-17     175  2018-05-17\n",
              "347879 2018-10-12      Togo    Gambia  ...   2018-06-07     172  2018-06-07\n",
              "\n",
              "[31066 rows x 10 columns]"
            ]
          },
          "metadata": {
            "tags": []
          },
          "execution_count": 34
        }
      ]
    },
    {
      "cell_type": "code",
      "metadata": {
        "colab": {
          "base_uri": "https://localhost:8080/"
        },
        "id": "WohoY5OxoIo3",
        "outputId": "60819c42-5e4a-4f06-f234-13bff114eb77"
      },
      "source": [
        "#check for duplicates on merged dataset across all columns\n",
        "mergeddataset.duplicated().sum()"
      ],
      "execution_count": 35,
      "outputs": [
        {
          "output_type": "execute_result",
          "data": {
            "text/plain": [
              "0"
            ]
          },
          "metadata": {
            "tags": []
          },
          "execution_count": 35
        }
      ]
    },
    {
      "cell_type": "code",
      "metadata": {
        "colab": {
          "base_uri": "https://localhost:8080/"
        },
        "id": "1IxJgyQaohEU",
        "outputId": "559f5ee1-fc57-46b3-84d3-024198b32d42"
      },
      "source": [
        "#confirm whether we have any duplicated matches considering only match defining columns\n",
        "mergeddataset.duplicated(subset=['date','home_team','away_team','home_score','away_score','tournament']).sum()"
      ],
      "execution_count": 36,
      "outputs": [
        {
          "output_type": "execute_result",
          "data": {
            "text/plain": [
              "28124"
            ]
          },
          "metadata": {
            "tags": []
          },
          "execution_count": 36
        }
      ]
    },
    {
      "cell_type": "markdown",
      "metadata": {
        "id": "hhFx7hDEp4EM"
      },
      "source": [
        "We realise some matches may have been duplicated to have more than one ranking. We therefore keep the first record of each match appearance and get rid of the rest below"
      ]
    },
    {
      "cell_type": "code",
      "metadata": {
        "colab": {
          "base_uri": "https://localhost:8080/",
          "height": 664
        },
        "id": "vBTT5naRpkjc",
        "outputId": "5e5833f3-377c-42d6-de7d-1dc5725d796d"
      },
      "source": [
        "mergeddataset.drop_duplicates(subset=['date','home_team','away_team','home_score','away_score','tournament'], keep= 'first', inplace= True)\n",
        "mergeddataset"
      ],
      "execution_count": 37,
      "outputs": [
        {
          "output_type": "execute_result",
          "data": {
            "text/html": [
              "<div>\n",
              "<style scoped>\n",
              "    .dataframe tbody tr th:only-of-type {\n",
              "        vertical-align: middle;\n",
              "    }\n",
              "\n",
              "    .dataframe tbody tr th {\n",
              "        vertical-align: top;\n",
              "    }\n",
              "\n",
              "    .dataframe thead th {\n",
              "        text-align: right;\n",
              "    }\n",
              "</style>\n",
              "<table border=\"1\" class=\"dataframe\">\n",
              "  <thead>\n",
              "    <tr style=\"text-align: right;\">\n",
              "      <th></th>\n",
              "      <th>date</th>\n",
              "      <th>home_team</th>\n",
              "      <th>away_team</th>\n",
              "      <th>home_score</th>\n",
              "      <th>away_score</th>\n",
              "      <th>tournament</th>\n",
              "      <th>rank_x</th>\n",
              "      <th>rank_date_x</th>\n",
              "      <th>rank_y</th>\n",
              "      <th>rank_date_y</th>\n",
              "    </tr>\n",
              "  </thead>\n",
              "  <tbody>\n",
              "    <tr>\n",
              "      <th>0</th>\n",
              "      <td>2015-01-04</td>\n",
              "      <td>Bahrain</td>\n",
              "      <td>Jordan</td>\n",
              "      <td>1</td>\n",
              "      <td>0</td>\n",
              "      <td>Friendly</td>\n",
              "      <td>110</td>\n",
              "      <td>2015-01-08</td>\n",
              "      <td>93</td>\n",
              "      <td>2015-01-08</td>\n",
              "    </tr>\n",
              "    <tr>\n",
              "      <th>144</th>\n",
              "      <td>2015-03-30</td>\n",
              "      <td>Saudi Arabia</td>\n",
              "      <td>Jordan</td>\n",
              "      <td>2</td>\n",
              "      <td>1</td>\n",
              "      <td>Friendly</td>\n",
              "      <td>102</td>\n",
              "      <td>2015-01-08</td>\n",
              "      <td>93</td>\n",
              "      <td>2015-01-08</td>\n",
              "    </tr>\n",
              "    <tr>\n",
              "      <th>288</th>\n",
              "      <td>2015-01-20</td>\n",
              "      <td>Japan</td>\n",
              "      <td>Jordan</td>\n",
              "      <td>2</td>\n",
              "      <td>0</td>\n",
              "      <td>AFC Asian Cup</td>\n",
              "      <td>54</td>\n",
              "      <td>2015-01-08</td>\n",
              "      <td>93</td>\n",
              "      <td>2015-01-08</td>\n",
              "    </tr>\n",
              "    <tr>\n",
              "      <th>432</th>\n",
              "      <td>2015-01-16</td>\n",
              "      <td>Palestine</td>\n",
              "      <td>Jordan</td>\n",
              "      <td>1</td>\n",
              "      <td>5</td>\n",
              "      <td>AFC Asian Cup</td>\n",
              "      <td>115</td>\n",
              "      <td>2015-01-08</td>\n",
              "      <td>93</td>\n",
              "      <td>2015-01-08</td>\n",
              "    </tr>\n",
              "    <tr>\n",
              "      <th>576</th>\n",
              "      <td>2015-09-08</td>\n",
              "      <td>Bangladesh</td>\n",
              "      <td>Jordan</td>\n",
              "      <td>0</td>\n",
              "      <td>4</td>\n",
              "      <td>FIFA World Cup qualification</td>\n",
              "      <td>165</td>\n",
              "      <td>2015-01-08</td>\n",
              "      <td>93</td>\n",
              "      <td>2015-01-08</td>\n",
              "    </tr>\n",
              "    <tr>\n",
              "      <th>...</th>\n",
              "      <td>...</td>\n",
              "      <td>...</td>\n",
              "      <td>...</td>\n",
              "      <td>...</td>\n",
              "      <td>...</td>\n",
              "      <td>...</td>\n",
              "      <td>...</td>\n",
              "      <td>...</td>\n",
              "      <td>...</td>\n",
              "      <td>...</td>\n",
              "    </tr>\n",
              "    <tr>\n",
              "      <th>347700</th>\n",
              "      <td>2018-09-02</td>\n",
              "      <td>Ethiopia</td>\n",
              "      <td>Burundi</td>\n",
              "      <td>1</td>\n",
              "      <td>1</td>\n",
              "      <td>Friendly</td>\n",
              "      <td>137</td>\n",
              "      <td>2018-01-18</td>\n",
              "      <td>143</td>\n",
              "      <td>2018-01-18</td>\n",
              "    </tr>\n",
              "    <tr>\n",
              "      <th>347736</th>\n",
              "      <td>2018-09-08</td>\n",
              "      <td>Gabon</td>\n",
              "      <td>Burundi</td>\n",
              "      <td>1</td>\n",
              "      <td>1</td>\n",
              "      <td>African Cup of Nations qualification</td>\n",
              "      <td>93</td>\n",
              "      <td>2018-01-18</td>\n",
              "      <td>143</td>\n",
              "      <td>2018-01-18</td>\n",
              "    </tr>\n",
              "    <tr>\n",
              "      <th>347772</th>\n",
              "      <td>2018-11-16</td>\n",
              "      <td>South Sudan</td>\n",
              "      <td>Burundi</td>\n",
              "      <td>2</td>\n",
              "      <td>5</td>\n",
              "      <td>African Cup of Nations qualification</td>\n",
              "      <td>153</td>\n",
              "      <td>2018-01-18</td>\n",
              "      <td>143</td>\n",
              "      <td>2018-01-18</td>\n",
              "    </tr>\n",
              "    <tr>\n",
              "      <th>347808</th>\n",
              "      <td>2018-10-12</td>\n",
              "      <td>Gabon</td>\n",
              "      <td>South Sudan</td>\n",
              "      <td>3</td>\n",
              "      <td>0</td>\n",
              "      <td>African Cup of Nations qualification</td>\n",
              "      <td>93</td>\n",
              "      <td>2018-01-18</td>\n",
              "      <td>153</td>\n",
              "      <td>2018-01-18</td>\n",
              "    </tr>\n",
              "    <tr>\n",
              "      <th>347844</th>\n",
              "      <td>2018-10-12</td>\n",
              "      <td>Togo</td>\n",
              "      <td>Gambia</td>\n",
              "      <td>1</td>\n",
              "      <td>1</td>\n",
              "      <td>African Cup of Nations qualification</td>\n",
              "      <td>127</td>\n",
              "      <td>2018-01-18</td>\n",
              "      <td>163</td>\n",
              "      <td>2018-01-18</td>\n",
              "    </tr>\n",
              "  </tbody>\n",
              "</table>\n",
              "<p>2942 rows × 10 columns</p>\n",
              "</div>"
            ],
            "text/plain": [
              "             date     home_team    away_team  ...  rank_date_x  rank_y rank_date_y\n",
              "0      2015-01-04       Bahrain       Jordan  ...   2015-01-08      93  2015-01-08\n",
              "144    2015-03-30  Saudi Arabia       Jordan  ...   2015-01-08      93  2015-01-08\n",
              "288    2015-01-20         Japan       Jordan  ...   2015-01-08      93  2015-01-08\n",
              "432    2015-01-16     Palestine       Jordan  ...   2015-01-08      93  2015-01-08\n",
              "576    2015-09-08    Bangladesh       Jordan  ...   2015-01-08      93  2015-01-08\n",
              "...           ...           ...          ...  ...          ...     ...         ...\n",
              "347700 2018-09-02      Ethiopia      Burundi  ...   2018-01-18     143  2018-01-18\n",
              "347736 2018-09-08         Gabon      Burundi  ...   2018-01-18     143  2018-01-18\n",
              "347772 2018-11-16   South Sudan      Burundi  ...   2018-01-18     143  2018-01-18\n",
              "347808 2018-10-12         Gabon  South Sudan  ...   2018-01-18     153  2018-01-18\n",
              "347844 2018-10-12          Togo       Gambia  ...   2018-01-18     163  2018-01-18\n",
              "\n",
              "[2942 rows x 10 columns]"
            ]
          },
          "metadata": {
            "tags": []
          },
          "execution_count": 37
        }
      ]
    },
    {
      "cell_type": "code",
      "metadata": {
        "id": "7uW0VESqqdsX"
      },
      "source": [
        "mergeddataset = mergeddataset.drop(columns=['rank_date_x', 'rank_date_y'])"
      ],
      "execution_count": 38,
      "outputs": []
    },
    {
      "cell_type": "code",
      "metadata": {
        "colab": {
          "base_uri": "https://localhost:8080/",
          "height": 595
        },
        "id": "wWx_LVpfq7O7",
        "outputId": "b7784bdd-1f34-4c30-a07a-466570f05575"
      },
      "source": [
        "mergeddataset.rename(columns={'rank_x':'hometeam_rank', 'rank_y':'awayteam_rank'},inplace=True)\n",
        "mergeddataset"
      ],
      "execution_count": 39,
      "outputs": [
        {
          "output_type": "execute_result",
          "data": {
            "text/html": [
              "<div>\n",
              "<style scoped>\n",
              "    .dataframe tbody tr th:only-of-type {\n",
              "        vertical-align: middle;\n",
              "    }\n",
              "\n",
              "    .dataframe tbody tr th {\n",
              "        vertical-align: top;\n",
              "    }\n",
              "\n",
              "    .dataframe thead th {\n",
              "        text-align: right;\n",
              "    }\n",
              "</style>\n",
              "<table border=\"1\" class=\"dataframe\">\n",
              "  <thead>\n",
              "    <tr style=\"text-align: right;\">\n",
              "      <th></th>\n",
              "      <th>date</th>\n",
              "      <th>home_team</th>\n",
              "      <th>away_team</th>\n",
              "      <th>home_score</th>\n",
              "      <th>away_score</th>\n",
              "      <th>tournament</th>\n",
              "      <th>hometeam_rank</th>\n",
              "      <th>awayteam_rank</th>\n",
              "    </tr>\n",
              "  </thead>\n",
              "  <tbody>\n",
              "    <tr>\n",
              "      <th>0</th>\n",
              "      <td>2015-01-04</td>\n",
              "      <td>Bahrain</td>\n",
              "      <td>Jordan</td>\n",
              "      <td>1</td>\n",
              "      <td>0</td>\n",
              "      <td>Friendly</td>\n",
              "      <td>110</td>\n",
              "      <td>93</td>\n",
              "    </tr>\n",
              "    <tr>\n",
              "      <th>144</th>\n",
              "      <td>2015-03-30</td>\n",
              "      <td>Saudi Arabia</td>\n",
              "      <td>Jordan</td>\n",
              "      <td>2</td>\n",
              "      <td>1</td>\n",
              "      <td>Friendly</td>\n",
              "      <td>102</td>\n",
              "      <td>93</td>\n",
              "    </tr>\n",
              "    <tr>\n",
              "      <th>288</th>\n",
              "      <td>2015-01-20</td>\n",
              "      <td>Japan</td>\n",
              "      <td>Jordan</td>\n",
              "      <td>2</td>\n",
              "      <td>0</td>\n",
              "      <td>AFC Asian Cup</td>\n",
              "      <td>54</td>\n",
              "      <td>93</td>\n",
              "    </tr>\n",
              "    <tr>\n",
              "      <th>432</th>\n",
              "      <td>2015-01-16</td>\n",
              "      <td>Palestine</td>\n",
              "      <td>Jordan</td>\n",
              "      <td>1</td>\n",
              "      <td>5</td>\n",
              "      <td>AFC Asian Cup</td>\n",
              "      <td>115</td>\n",
              "      <td>93</td>\n",
              "    </tr>\n",
              "    <tr>\n",
              "      <th>576</th>\n",
              "      <td>2015-09-08</td>\n",
              "      <td>Bangladesh</td>\n",
              "      <td>Jordan</td>\n",
              "      <td>0</td>\n",
              "      <td>4</td>\n",
              "      <td>FIFA World Cup qualification</td>\n",
              "      <td>165</td>\n",
              "      <td>93</td>\n",
              "    </tr>\n",
              "    <tr>\n",
              "      <th>...</th>\n",
              "      <td>...</td>\n",
              "      <td>...</td>\n",
              "      <td>...</td>\n",
              "      <td>...</td>\n",
              "      <td>...</td>\n",
              "      <td>...</td>\n",
              "      <td>...</td>\n",
              "      <td>...</td>\n",
              "    </tr>\n",
              "    <tr>\n",
              "      <th>347700</th>\n",
              "      <td>2018-09-02</td>\n",
              "      <td>Ethiopia</td>\n",
              "      <td>Burundi</td>\n",
              "      <td>1</td>\n",
              "      <td>1</td>\n",
              "      <td>Friendly</td>\n",
              "      <td>137</td>\n",
              "      <td>143</td>\n",
              "    </tr>\n",
              "    <tr>\n",
              "      <th>347736</th>\n",
              "      <td>2018-09-08</td>\n",
              "      <td>Gabon</td>\n",
              "      <td>Burundi</td>\n",
              "      <td>1</td>\n",
              "      <td>1</td>\n",
              "      <td>African Cup of Nations qualification</td>\n",
              "      <td>93</td>\n",
              "      <td>143</td>\n",
              "    </tr>\n",
              "    <tr>\n",
              "      <th>347772</th>\n",
              "      <td>2018-11-16</td>\n",
              "      <td>South Sudan</td>\n",
              "      <td>Burundi</td>\n",
              "      <td>2</td>\n",
              "      <td>5</td>\n",
              "      <td>African Cup of Nations qualification</td>\n",
              "      <td>153</td>\n",
              "      <td>143</td>\n",
              "    </tr>\n",
              "    <tr>\n",
              "      <th>347808</th>\n",
              "      <td>2018-10-12</td>\n",
              "      <td>Gabon</td>\n",
              "      <td>South Sudan</td>\n",
              "      <td>3</td>\n",
              "      <td>0</td>\n",
              "      <td>African Cup of Nations qualification</td>\n",
              "      <td>93</td>\n",
              "      <td>153</td>\n",
              "    </tr>\n",
              "    <tr>\n",
              "      <th>347844</th>\n",
              "      <td>2018-10-12</td>\n",
              "      <td>Togo</td>\n",
              "      <td>Gambia</td>\n",
              "      <td>1</td>\n",
              "      <td>1</td>\n",
              "      <td>African Cup of Nations qualification</td>\n",
              "      <td>127</td>\n",
              "      <td>163</td>\n",
              "    </tr>\n",
              "  </tbody>\n",
              "</table>\n",
              "<p>2942 rows × 8 columns</p>\n",
              "</div>"
            ],
            "text/plain": [
              "             date     home_team  ... hometeam_rank  awayteam_rank\n",
              "0      2015-01-04       Bahrain  ...           110             93\n",
              "144    2015-03-30  Saudi Arabia  ...           102             93\n",
              "288    2015-01-20         Japan  ...            54             93\n",
              "432    2015-01-16     Palestine  ...           115             93\n",
              "576    2015-09-08    Bangladesh  ...           165             93\n",
              "...           ...           ...  ...           ...            ...\n",
              "347700 2018-09-02      Ethiopia  ...           137            143\n",
              "347736 2018-09-08         Gabon  ...            93            143\n",
              "347772 2018-11-16   South Sudan  ...           153            143\n",
              "347808 2018-10-12         Gabon  ...            93            153\n",
              "347844 2018-10-12          Togo  ...           127            163\n",
              "\n",
              "[2942 rows x 8 columns]"
            ]
          },
          "metadata": {
            "tags": []
          },
          "execution_count": 39
        }
      ]
    },
    {
      "cell_type": "code",
      "metadata": {
        "colab": {
          "base_uri": "https://localhost:8080/"
        },
        "id": "VV1gJRKN_fi2",
        "outputId": "77628b0e-b8e5-4cd0-ec20-2fa4be814af1"
      },
      "source": [
        "#checkin the unique tournament types\n",
        "mergeddataset['tournament'].unique()"
      ],
      "execution_count": 40,
      "outputs": [
        {
          "output_type": "execute_result",
          "data": {
            "text/plain": [
              "array(['Friendly', 'AFC Asian Cup', 'FIFA World Cup qualification',\n",
              "       'Copa América', 'African Nations Championship',\n",
              "       'African Cup of Nations', 'African Cup of Nations qualification',\n",
              "       'COSAFA Cup', 'CECAFA Cup', 'Gold Cup', 'EAFF Championship',\n",
              "       'SAFF Cup', 'UEFA Euro qualification', 'ABCS Tournament',\n",
              "       'Windward Islands Tournament', 'Oceania Nations Cup qualification',\n",
              "       'AFC Asian Cup qualification', 'AFC Challenge Cup',\n",
              "       'AFF Championship', 'CFU Caribbean Cup qualification',\n",
              "       'Baltic Cup', 'UEFA Euro', 'Kirin Cup',\n",
              "       'Copa América qualification', \"King's Cup\", 'Oceania Nations Cup',\n",
              "       'Confederations Cup', 'UNCAF Cup', 'CFU Caribbean Cup',\n",
              "       'FIFA World Cup', 'UEFA Nations League', 'Intercontinental Cup'],\n",
              "      dtype=object)"
            ]
          },
          "metadata": {
            "tags": []
          },
          "execution_count": 40
        }
      ]
    },
    {
      "cell_type": "code",
      "metadata": {
        "id": "IQzKqEKjruCl"
      },
      "source": [
        "#reducing the tournaments to world cup, friendly and others as specified in question.\n",
        "def tourna(i):\n",
        "  if i == 'FIFA World Cup':\n",
        "    return 'World Cup'\n",
        "  elif i == 'Friendly':\n",
        "    return 'Friendly'\n",
        "  else:\n",
        "    return 'Other'\n",
        "\n",
        "mergeddataset['tournament_type'] = mergeddataset.tournament.apply(lambda x: tourna(x))"
      ],
      "execution_count": 41,
      "outputs": []
    },
    {
      "cell_type": "code",
      "metadata": {
        "id": "cAJjdcsrJywC"
      },
      "source": [
        "def match_result(i):\n",
        "  if i['home_score'] > i['away_score']:\n",
        "    outcome = 'Win'\n",
        "  elif i['home_score'] < i['away_score']:\n",
        "    outcome = 'Lose'\n",
        "  else:\n",
        "    outcome = 'Draw'\n",
        "  return outcome\n",
        "\n",
        "mergeddataset['result'] = mergeddataset.apply(match_result, axis=1)"
      ],
      "execution_count": 42,
      "outputs": []
    },
    {
      "cell_type": "code",
      "metadata": {
        "colab": {
          "base_uri": "https://localhost:8080/",
          "height": 701
        },
        "id": "S0bVweCV_0pS",
        "outputId": "624283b5-57b3-4377-907a-0541ba8a5699"
      },
      "source": [
        "mergeddataset"
      ],
      "execution_count": 43,
      "outputs": [
        {
          "output_type": "execute_result",
          "data": {
            "text/html": [
              "<div>\n",
              "<style scoped>\n",
              "    .dataframe tbody tr th:only-of-type {\n",
              "        vertical-align: middle;\n",
              "    }\n",
              "\n",
              "    .dataframe tbody tr th {\n",
              "        vertical-align: top;\n",
              "    }\n",
              "\n",
              "    .dataframe thead th {\n",
              "        text-align: right;\n",
              "    }\n",
              "</style>\n",
              "<table border=\"1\" class=\"dataframe\">\n",
              "  <thead>\n",
              "    <tr style=\"text-align: right;\">\n",
              "      <th></th>\n",
              "      <th>date</th>\n",
              "      <th>home_team</th>\n",
              "      <th>away_team</th>\n",
              "      <th>home_score</th>\n",
              "      <th>away_score</th>\n",
              "      <th>tournament</th>\n",
              "      <th>hometeam_rank</th>\n",
              "      <th>awayteam_rank</th>\n",
              "      <th>tournament_type</th>\n",
              "      <th>result</th>\n",
              "    </tr>\n",
              "  </thead>\n",
              "  <tbody>\n",
              "    <tr>\n",
              "      <th>0</th>\n",
              "      <td>2015-01-04</td>\n",
              "      <td>Bahrain</td>\n",
              "      <td>Jordan</td>\n",
              "      <td>1</td>\n",
              "      <td>0</td>\n",
              "      <td>Friendly</td>\n",
              "      <td>110</td>\n",
              "      <td>93</td>\n",
              "      <td>Friendly</td>\n",
              "      <td>Win</td>\n",
              "    </tr>\n",
              "    <tr>\n",
              "      <th>144</th>\n",
              "      <td>2015-03-30</td>\n",
              "      <td>Saudi Arabia</td>\n",
              "      <td>Jordan</td>\n",
              "      <td>2</td>\n",
              "      <td>1</td>\n",
              "      <td>Friendly</td>\n",
              "      <td>102</td>\n",
              "      <td>93</td>\n",
              "      <td>Friendly</td>\n",
              "      <td>Win</td>\n",
              "    </tr>\n",
              "    <tr>\n",
              "      <th>288</th>\n",
              "      <td>2015-01-20</td>\n",
              "      <td>Japan</td>\n",
              "      <td>Jordan</td>\n",
              "      <td>2</td>\n",
              "      <td>0</td>\n",
              "      <td>AFC Asian Cup</td>\n",
              "      <td>54</td>\n",
              "      <td>93</td>\n",
              "      <td>Other</td>\n",
              "      <td>Win</td>\n",
              "    </tr>\n",
              "    <tr>\n",
              "      <th>432</th>\n",
              "      <td>2015-01-16</td>\n",
              "      <td>Palestine</td>\n",
              "      <td>Jordan</td>\n",
              "      <td>1</td>\n",
              "      <td>5</td>\n",
              "      <td>AFC Asian Cup</td>\n",
              "      <td>115</td>\n",
              "      <td>93</td>\n",
              "      <td>Other</td>\n",
              "      <td>Lose</td>\n",
              "    </tr>\n",
              "    <tr>\n",
              "      <th>576</th>\n",
              "      <td>2015-09-08</td>\n",
              "      <td>Bangladesh</td>\n",
              "      <td>Jordan</td>\n",
              "      <td>0</td>\n",
              "      <td>4</td>\n",
              "      <td>FIFA World Cup qualification</td>\n",
              "      <td>165</td>\n",
              "      <td>93</td>\n",
              "      <td>Other</td>\n",
              "      <td>Lose</td>\n",
              "    </tr>\n",
              "    <tr>\n",
              "      <th>...</th>\n",
              "      <td>...</td>\n",
              "      <td>...</td>\n",
              "      <td>...</td>\n",
              "      <td>...</td>\n",
              "      <td>...</td>\n",
              "      <td>...</td>\n",
              "      <td>...</td>\n",
              "      <td>...</td>\n",
              "      <td>...</td>\n",
              "      <td>...</td>\n",
              "    </tr>\n",
              "    <tr>\n",
              "      <th>347700</th>\n",
              "      <td>2018-09-02</td>\n",
              "      <td>Ethiopia</td>\n",
              "      <td>Burundi</td>\n",
              "      <td>1</td>\n",
              "      <td>1</td>\n",
              "      <td>Friendly</td>\n",
              "      <td>137</td>\n",
              "      <td>143</td>\n",
              "      <td>Friendly</td>\n",
              "      <td>Draw</td>\n",
              "    </tr>\n",
              "    <tr>\n",
              "      <th>347736</th>\n",
              "      <td>2018-09-08</td>\n",
              "      <td>Gabon</td>\n",
              "      <td>Burundi</td>\n",
              "      <td>1</td>\n",
              "      <td>1</td>\n",
              "      <td>African Cup of Nations qualification</td>\n",
              "      <td>93</td>\n",
              "      <td>143</td>\n",
              "      <td>Other</td>\n",
              "      <td>Draw</td>\n",
              "    </tr>\n",
              "    <tr>\n",
              "      <th>347772</th>\n",
              "      <td>2018-11-16</td>\n",
              "      <td>South Sudan</td>\n",
              "      <td>Burundi</td>\n",
              "      <td>2</td>\n",
              "      <td>5</td>\n",
              "      <td>African Cup of Nations qualification</td>\n",
              "      <td>153</td>\n",
              "      <td>143</td>\n",
              "      <td>Other</td>\n",
              "      <td>Lose</td>\n",
              "    </tr>\n",
              "    <tr>\n",
              "      <th>347808</th>\n",
              "      <td>2018-10-12</td>\n",
              "      <td>Gabon</td>\n",
              "      <td>South Sudan</td>\n",
              "      <td>3</td>\n",
              "      <td>0</td>\n",
              "      <td>African Cup of Nations qualification</td>\n",
              "      <td>93</td>\n",
              "      <td>153</td>\n",
              "      <td>Other</td>\n",
              "      <td>Win</td>\n",
              "    </tr>\n",
              "    <tr>\n",
              "      <th>347844</th>\n",
              "      <td>2018-10-12</td>\n",
              "      <td>Togo</td>\n",
              "      <td>Gambia</td>\n",
              "      <td>1</td>\n",
              "      <td>1</td>\n",
              "      <td>African Cup of Nations qualification</td>\n",
              "      <td>127</td>\n",
              "      <td>163</td>\n",
              "      <td>Other</td>\n",
              "      <td>Draw</td>\n",
              "    </tr>\n",
              "  </tbody>\n",
              "</table>\n",
              "<p>2942 rows × 10 columns</p>\n",
              "</div>"
            ],
            "text/plain": [
              "             date     home_team  ... tournament_type  result\n",
              "0      2015-01-04       Bahrain  ...        Friendly     Win\n",
              "144    2015-03-30  Saudi Arabia  ...        Friendly     Win\n",
              "288    2015-01-20         Japan  ...           Other     Win\n",
              "432    2015-01-16     Palestine  ...           Other    Lose\n",
              "576    2015-09-08    Bangladesh  ...           Other    Lose\n",
              "...           ...           ...  ...             ...     ...\n",
              "347700 2018-09-02      Ethiopia  ...        Friendly    Draw\n",
              "347736 2018-09-08         Gabon  ...           Other    Draw\n",
              "347772 2018-11-16   South Sudan  ...           Other    Lose\n",
              "347808 2018-10-12         Gabon  ...           Other     Win\n",
              "347844 2018-10-12          Togo  ...           Other    Draw\n",
              "\n",
              "[2942 rows x 10 columns]"
            ]
          },
          "metadata": {
            "tags": []
          },
          "execution_count": 43
        }
      ]
    },
    {
      "cell_type": "markdown",
      "metadata": {
        "id": "gHkkHD94DRVE"
      },
      "source": [
        "###Exploratory data analysis"
      ]
    },
    {
      "cell_type": "markdown",
      "metadata": {
        "id": "v7R5miDgTr1s"
      },
      "source": [
        "####Univariate analysis"
      ]
    },
    {
      "cell_type": "code",
      "metadata": {
        "colab": {
          "base_uri": "https://localhost:8080/"
        },
        "id": "0VSr61zmDEP5",
        "outputId": "b5418e82-791e-455d-8294-cfe7fa8406b4"
      },
      "source": [
        "#getting information for our merged dataset\n",
        "mergeddataset.info()"
      ],
      "execution_count": 44,
      "outputs": [
        {
          "output_type": "stream",
          "text": [
            "<class 'pandas.core.frame.DataFrame'>\n",
            "Int64Index: 2942 entries, 0 to 347844\n",
            "Data columns (total 10 columns):\n",
            " #   Column           Non-Null Count  Dtype         \n",
            "---  ------           --------------  -----         \n",
            " 0   date             2942 non-null   datetime64[ns]\n",
            " 1   home_team        2942 non-null   object        \n",
            " 2   away_team        2942 non-null   object        \n",
            " 3   home_score       2942 non-null   int64         \n",
            " 4   away_score       2942 non-null   int64         \n",
            " 5   tournament       2942 non-null   object        \n",
            " 6   hometeam_rank    2942 non-null   int64         \n",
            " 7   awayteam_rank    2942 non-null   int64         \n",
            " 8   tournament_type  2942 non-null   object        \n",
            " 9   result           2942 non-null   object        \n",
            "dtypes: datetime64[ns](1), int64(4), object(5)\n",
            "memory usage: 252.8+ KB\n"
          ],
          "name": "stdout"
        }
      ]
    },
    {
      "cell_type": "code",
      "metadata": {
        "colab": {
          "base_uri": "https://localhost:8080/",
          "height": 299
        },
        "id": "YhWc0M2wDxgG",
        "outputId": "9f8c3c70-b962-4cd7-ec20-0578c466140c"
      },
      "source": [
        "#getting the statistical summary of the merged dataset\n",
        "mergeddataset.describe()"
      ],
      "execution_count": 45,
      "outputs": [
        {
          "output_type": "execute_result",
          "data": {
            "text/html": [
              "<div>\n",
              "<style scoped>\n",
              "    .dataframe tbody tr th:only-of-type {\n",
              "        vertical-align: middle;\n",
              "    }\n",
              "\n",
              "    .dataframe tbody tr th {\n",
              "        vertical-align: top;\n",
              "    }\n",
              "\n",
              "    .dataframe thead th {\n",
              "        text-align: right;\n",
              "    }\n",
              "</style>\n",
              "<table border=\"1\" class=\"dataframe\">\n",
              "  <thead>\n",
              "    <tr style=\"text-align: right;\">\n",
              "      <th></th>\n",
              "      <th>home_score</th>\n",
              "      <th>away_score</th>\n",
              "      <th>hometeam_rank</th>\n",
              "      <th>awayteam_rank</th>\n",
              "    </tr>\n",
              "  </thead>\n",
              "  <tbody>\n",
              "    <tr>\n",
              "      <th>count</th>\n",
              "      <td>2942.000000</td>\n",
              "      <td>2942.000000</td>\n",
              "      <td>2942.000000</td>\n",
              "      <td>2942.000000</td>\n",
              "    </tr>\n",
              "    <tr>\n",
              "      <th>mean</th>\n",
              "      <td>1.526852</td>\n",
              "      <td>1.041808</td>\n",
              "      <td>82.706322</td>\n",
              "      <td>85.820190</td>\n",
              "    </tr>\n",
              "    <tr>\n",
              "      <th>std</th>\n",
              "      <td>1.515799</td>\n",
              "      <td>1.211115</td>\n",
              "      <td>56.652920</td>\n",
              "      <td>56.713522</td>\n",
              "    </tr>\n",
              "    <tr>\n",
              "      <th>min</th>\n",
              "      <td>0.000000</td>\n",
              "      <td>0.000000</td>\n",
              "      <td>1.000000</td>\n",
              "      <td>1.000000</td>\n",
              "    </tr>\n",
              "    <tr>\n",
              "      <th>25%</th>\n",
              "      <td>0.000000</td>\n",
              "      <td>0.000000</td>\n",
              "      <td>34.000000</td>\n",
              "      <td>37.000000</td>\n",
              "    </tr>\n",
              "    <tr>\n",
              "      <th>50%</th>\n",
              "      <td>1.000000</td>\n",
              "      <td>1.000000</td>\n",
              "      <td>75.000000</td>\n",
              "      <td>78.000000</td>\n",
              "    </tr>\n",
              "    <tr>\n",
              "      <th>75%</th>\n",
              "      <td>2.000000</td>\n",
              "      <td>2.000000</td>\n",
              "      <td>124.000000</td>\n",
              "      <td>129.000000</td>\n",
              "    </tr>\n",
              "    <tr>\n",
              "      <th>max</th>\n",
              "      <td>15.000000</td>\n",
              "      <td>8.000000</td>\n",
              "      <td>209.000000</td>\n",
              "      <td>209.000000</td>\n",
              "    </tr>\n",
              "  </tbody>\n",
              "</table>\n",
              "</div>"
            ],
            "text/plain": [
              "        home_score   away_score  hometeam_rank  awayteam_rank\n",
              "count  2942.000000  2942.000000    2942.000000    2942.000000\n",
              "mean      1.526852     1.041808      82.706322      85.820190\n",
              "std       1.515799     1.211115      56.652920      56.713522\n",
              "min       0.000000     0.000000       1.000000       1.000000\n",
              "25%       0.000000     0.000000      34.000000      37.000000\n",
              "50%       1.000000     1.000000      75.000000      78.000000\n",
              "75%       2.000000     2.000000     124.000000     129.000000\n",
              "max      15.000000     8.000000     209.000000     209.000000"
            ]
          },
          "metadata": {
            "tags": []
          },
          "execution_count": 45
        }
      ]
    },
    {
      "cell_type": "code",
      "metadata": {
        "colab": {
          "base_uri": "https://localhost:8080/",
          "height": 1000
        },
        "id": "XDyo9GVLEofR",
        "outputId": "762a072f-b9e5-4a3c-d6fe-30ad77482a27"
      },
      "source": [
        "col_names = ['home_score','away_score', 'hometeam_rank', 'awayteam_rank']\n",
        "\n",
        "fig, ax = plt.subplots(len(col_names), figsize= (8,40))\n",
        "\n",
        "for i, col_val in enumerate(col_names):\n",
        "  sns.boxplot(y = mergeddataset[col_val], ax= ax[i])\n",
        "  ax[i].set_title('Box plot - {}'.format(col_val), fontsize= 10)\n",
        "  ax[i].set_xlabel(col_val, fontsize= 8)\n",
        "plt.show()"
      ],
      "execution_count": 46,
      "outputs": [
        {
          "output_type": "display_data",
          "data": {
            "image/png": "[encoded data removed]",
            "text/plain": [
              "<Figure size 576x2880 with 4 Axes>"
            ]
          },
          "metadata": {
            "tags": [],
            "needs_background": "light"
          }
        }
      ]
    },
    {
      "cell_type": "markdown",
      "metadata": {
        "id": "GicivIIrMxKY"
      },
      "source": [
        "outliers only present in the scores columns. Probably because of high scoring matches thus we will keep them"
      ]
    },
    {
      "cell_type": "code",
      "metadata": {
        "colab": {
          "base_uri": "https://localhost:8080/",
          "height": 299
        },
        "id": "mhu0h5QIMtXp",
        "outputId": "53c7e05a-9153-4ab4-f7a0-ac6a0c1c82b7"
      },
      "source": [
        "mergeddataset.tournament_type.value_counts().plot.bar()\n",
        "plt.title('Tournament Types')\n",
        "degrees = 0\n",
        "plt.xticks(rotation=degrees)"
      ],
      "execution_count": 47,
      "outputs": [
        {
          "output_type": "execute_result",
          "data": {
            "text/plain": [
              "(array([0, 1, 2]), <a list of 3 Text major ticklabel objects>)"
            ]
          },
          "metadata": {
            "tags": []
          },
          "execution_count": 47
        },
        {
          "output_type": "display_data",
          "data": {
            "image/png": "[encoded data removed]",
            "text/plain": [
              "<Figure size 432x288 with 1 Axes>"
            ]
          },
          "metadata": {
            "tags": [],
            "needs_background": "light"
          }
        }
      ]
    },
    {
      "cell_type": "markdown",
      "metadata": {
        "id": "Nbs7iqx6NxJc"
      },
      "source": [
        "friendlies are higher in comparison to the worlsd cup matches probably because worldcups occur once in four years. Others is leading. We therefore breakdown others and plot below again to see each tournament individually"
      ]
    },
    {
      "cell_type": "code",
      "metadata": {
        "colab": {
          "base_uri": "https://localhost:8080/",
          "height": 299
        },
        "id": "xbRjpklSOJmY",
        "outputId": "ad794e11-7344-44a5-c856-1744c91cd447"
      },
      "source": [
        "mergeddataset.tournament.value_counts().head(5).sort_values().plot.barh()\n",
        "plt.title('Tournaments')\n",
        "# Friendly matches hold the top spot in the tournaments field"
      ],
      "execution_count": 48,
      "outputs": [
        {
          "output_type": "execute_result",
          "data": {
            "text/plain": [
              "Text(0.5, 1.0, 'Tournaments')"
            ]
          },
          "metadata": {
            "tags": []
          },
          "execution_count": 48
        },
        {
          "output_type": "display_data",
          "data": {
            "image/png": "[encoded data removed]",
            "text/plain": [
              "<Figure size 432x288 with 1 Axes>"
            ]
          },
          "metadata": {
            "tags": [],
            "needs_background": "light"
          }
        }
      ]
    },
    {
      "cell_type": "markdown",
      "metadata": {
        "id": "dwGQN8HvOdLr"
      },
      "source": [
        "Friendly tournaments are still most followed by the Fifaworld cup qualification"
      ]
    },
    {
      "cell_type": "code",
      "metadata": {
        "colab": {
          "base_uri": "https://localhost:8080/"
        },
        "id": "j3ZNCJd5Ort4",
        "outputId": "d12bbc21-9adf-40f6-e35d-2d4d741e724a"
      },
      "source": [
        "mergeddataset.columns"
      ],
      "execution_count": 49,
      "outputs": [
        {
          "output_type": "execute_result",
          "data": {
            "text/plain": [
              "Index(['date', 'home_team', 'away_team', 'home_score', 'away_score',\n",
              "       'tournament', 'hometeam_rank', 'awayteam_rank', 'tournament_type',\n",
              "       'result'],\n",
              "      dtype='object')"
            ]
          },
          "metadata": {
            "tags": []
          },
          "execution_count": 49
        }
      ]
    },
    {
      "cell_type": "code",
      "metadata": {
        "colab": {
          "base_uri": "https://localhost:8080/",
          "height": 762
        },
        "id": "4RD_MKfkPTpH",
        "outputId": "bf5f622d-aae5-4f9a-c29c-7a82f4c2d9a9"
      },
      "source": [
        "#checking the distribution of each feature\n",
        "fig, axes = plt.subplots(2, 2, figsize=(18, 10))\n",
        "\n",
        "fig.suptitle('Numerical Data Distribution')\n",
        "\n",
        "\n",
        "sns.distplot( mergeddataset[\"home_score\"] , ax=axes[0, 0])\n",
        "sns.distplot( mergeddataset[\"away_score\"] , ax=axes[0, 1])\n",
        "sns.distplot( mergeddataset[\"hometeam_rank\"] , ax=axes[1, 0])\n",
        "sns.distplot( mergeddataset[\"awayteam_rank\"] , ax=axes[1, 1])"
      ],
      "execution_count": 50,
      "outputs": [
        {
          "output_type": "stream",
          "text": [
            "/usr/local/lib/python3.7/dist-packages/seaborn/distributions.py:2557: FutureWarning: `distplot` is a deprecated function and will be removed in a future version. Please adapt your code to use either `displot` (a figure-level function with similar flexibility) or `histplot` (an axes-level function for histograms).\n",
            "  warnings.warn(msg, FutureWarning)\n",
            "/usr/local/lib/python3.7/dist-packages/seaborn/distributions.py:2557: FutureWarning: `distplot` is a deprecated function and will be removed in a future version. Please adapt your code to use either `displot` (a figure-level function with similar flexibility) or `histplot` (an axes-level function for histograms).\n",
            "  warnings.warn(msg, FutureWarning)\n",
            "/usr/local/lib/python3.7/dist-packages/seaborn/distributions.py:2557: FutureWarning: `distplot` is a deprecated function and will be removed in a future version. Please adapt your code to use either `displot` (a figure-level function with similar flexibility) or `histplot` (an axes-level function for histograms).\n",
            "  warnings.warn(msg, FutureWarning)\n",
            "/usr/local/lib/python3.7/dist-packages/seaborn/distributions.py:2557: FutureWarning: `distplot` is a deprecated function and will be removed in a future version. Please adapt your code to use either `displot` (a figure-level function with similar flexibility) or `histplot` (an axes-level function for histograms).\n",
            "  warnings.warn(msg, FutureWarning)\n"
          ],
          "name": "stderr"
        },
        {
          "output_type": "execute_result",
          "data": {
            "text/plain": [
              "<matplotlib.axes._subplots.AxesSubplot at 0x7fedd4275450>"
            ]
          },
          "metadata": {
            "tags": []
          },
          "execution_count": 50
        },
        {
          "output_type": "display_data",
          "data": {
            "image/png": "[encoded data removed]",
            "text/plain": [
              "<Figure size 1296x720 with 4 Axes>"
            ]
          },
          "metadata": {
            "tags": [],
            "needs_background": "light"
          }
        }
      ]
    },
    {
      "cell_type": "markdown",
      "metadata": {
        "id": "yBYdlSgISLBh"
      },
      "source": [
        "Our dataset is normally distributed"
      ]
    },
    {
      "cell_type": "markdown",
      "metadata": {
        "id": "m8SU-F3LTj9h"
      },
      "source": [
        "####Bivariate analysis"
      ]
    },
    {
      "cell_type": "code",
      "metadata": {
        "colab": {
          "base_uri": "https://localhost:8080/",
          "height": 537
        },
        "id": "3A-xiji-SPDb",
        "outputId": "df040e19-4c5e-40a8-911b-7b863726f01f"
      },
      "source": [
        "cor = mergeddataset.corr() \n",
        "plt.figure(figsize = (20,10))\n",
        "sns.heatmap(cor, xticklabels=cor.columns, yticklabels=cor.columns, annot=True)\n",
        "plt.title('Heatmap for Correlation ')\n",
        "plt.show()"
      ],
      "execution_count": 51,
      "outputs": [
        {
          "output_type": "display_data",
          "data": {
            "image/png": "[encoded data removed]",
            "text/plain": [
              "<Figure size 1440x720 with 2 Axes>"
            ]
          },
          "metadata": {
            "tags": [],
            "needs_background": "light"
          }
        }
      ]
    },
    {
      "cell_type": "code",
      "metadata": {
        "colab": {
          "base_uri": "https://localhost:8080/",
          "height": 726
        },
        "id": "RoLng5VJUt-Y",
        "outputId": "090fc11e-eeab-48fd-c310-1e0035067322"
      },
      "source": [
        "# Ploting scatterplots of all numeric columns\n",
        "sns.pairplot(mergeddataset)\n",
        "plt.show()"
      ],
      "execution_count": 52,
      "outputs": [
        {
          "output_type": "display_data",
          "data": {
            "image/png": "[encoded data removed]",
            "text/plain": [
              "<Figure size 720x720 with 20 Axes>"
            ]
          },
          "metadata": {
            "tags": [],
            "needs_background": "light"
          }
        }
      ]
    },
    {
      "cell_type": "markdown",
      "metadata": {
        "id": "SKiAqhEGV_zI"
      },
      "source": [
        "###Polynomial regression"
      ]
    },
    {
      "cell_type": "code",
      "metadata": {
        "colab": {
          "base_uri": "https://localhost:8080/"
        },
        "id": "0GKv_K53ZCbZ",
        "outputId": "512eb512-b787-4936-98f2-70532e216edf"
      },
      "source": [
        "model=mergeddataset.copy()\n",
        "model.columns"
      ],
      "execution_count": 53,
      "outputs": [
        {
          "output_type": "execute_result",
          "data": {
            "text/plain": [
              "Index(['date', 'home_team', 'away_team', 'home_score', 'away_score',\n",
              "       'tournament', 'hometeam_rank', 'awayteam_rank', 'tournament_type',\n",
              "       'result'],\n",
              "      dtype='object')"
            ]
          },
          "metadata": {
            "tags": []
          },
          "execution_count": 53
        }
      ]
    },
    {
      "cell_type": "code",
      "metadata": {
        "id": "L7nov6k4VxWo"
      },
      "source": [
        "model['tournament_type'] = model['tournament_type'].astype('category')\n",
        "model['result'] = model['result'].astype('category')\n",
        "\n",
        "from sklearn.preprocessing import LabelEncoder\n",
        "\n",
        "labelencoder = LabelEncoder()\n",
        "\n",
        "model['tournament_type'] = labelencoder.fit_transform(model['tournament_type'])\n",
        "model['result'] = labelencoder.fit_transform(model['result'])"
      ],
      "execution_count": 54,
      "outputs": []
    },
    {
      "cell_type": "markdown",
      "metadata": {
        "id": "KKP8vpblzV1c"
      },
      "source": [
        "Predicting home score below"
      ]
    },
    {
      "cell_type": "code",
      "metadata": {
        "colab": {
          "base_uri": "https://localhost:8080/",
          "height": 299
        },
        "id": "xzDXk4CMV6dn",
        "outputId": "2375b14f-7806-48db-eb34-d6ba46ed1864"
      },
      "source": [
        "model.describe()"
      ],
      "execution_count": 55,
      "outputs": [
        {
          "output_type": "execute_result",
          "data": {
            "text/html": [
              "<div>\n",
              "<style scoped>\n",
              "    .dataframe tbody tr th:only-of-type {\n",
              "        vertical-align: middle;\n",
              "    }\n",
              "\n",
              "    .dataframe tbody tr th {\n",
              "        vertical-align: top;\n",
              "    }\n",
              "\n",
              "    .dataframe thead th {\n",
              "        text-align: right;\n",
              "    }\n",
              "</style>\n",
              "<table border=\"1\" class=\"dataframe\">\n",
              "  <thead>\n",
              "    <tr style=\"text-align: right;\">\n",
              "      <th></th>\n",
              "      <th>home_score</th>\n",
              "      <th>away_score</th>\n",
              "      <th>hometeam_rank</th>\n",
              "      <th>awayteam_rank</th>\n",
              "      <th>tournament_type</th>\n",
              "      <th>result</th>\n",
              "    </tr>\n",
              "  </thead>\n",
              "  <tbody>\n",
              "    <tr>\n",
              "      <th>count</th>\n",
              "      <td>2942.000000</td>\n",
              "      <td>2942.000000</td>\n",
              "      <td>2942.000000</td>\n",
              "      <td>2942.000000</td>\n",
              "      <td>2942.000000</td>\n",
              "      <td>2942.000000</td>\n",
              "    </tr>\n",
              "    <tr>\n",
              "      <th>mean</th>\n",
              "      <td>1.526852</td>\n",
              "      <td>1.041808</td>\n",
              "      <td>82.706322</td>\n",
              "      <td>85.820190</td>\n",
              "      <td>0.653297</td>\n",
              "      <td>1.221278</td>\n",
              "    </tr>\n",
              "    <tr>\n",
              "      <th>std</th>\n",
              "      <td>1.515799</td>\n",
              "      <td>1.211115</td>\n",
              "      <td>56.652920</td>\n",
              "      <td>56.713522</td>\n",
              "      <td>0.515771</td>\n",
              "      <td>0.819465</td>\n",
              "    </tr>\n",
              "    <tr>\n",
              "      <th>min</th>\n",
              "      <td>0.000000</td>\n",
              "      <td>0.000000</td>\n",
              "      <td>1.000000</td>\n",
              "      <td>1.000000</td>\n",
              "      <td>0.000000</td>\n",
              "      <td>0.000000</td>\n",
              "    </tr>\n",
              "    <tr>\n",
              "      <th>25%</th>\n",
              "      <td>0.000000</td>\n",
              "      <td>0.000000</td>\n",
              "      <td>34.000000</td>\n",
              "      <td>37.000000</td>\n",
              "      <td>0.000000</td>\n",
              "      <td>1.000000</td>\n",
              "    </tr>\n",
              "    <tr>\n",
              "      <th>50%</th>\n",
              "      <td>1.000000</td>\n",
              "      <td>1.000000</td>\n",
              "      <td>75.000000</td>\n",
              "      <td>78.000000</td>\n",
              "      <td>1.000000</td>\n",
              "      <td>1.000000</td>\n",
              "    </tr>\n",
              "    <tr>\n",
              "      <th>75%</th>\n",
              "      <td>2.000000</td>\n",
              "      <td>2.000000</td>\n",
              "      <td>124.000000</td>\n",
              "      <td>129.000000</td>\n",
              "      <td>1.000000</td>\n",
              "      <td>2.000000</td>\n",
              "    </tr>\n",
              "    <tr>\n",
              "      <th>max</th>\n",
              "      <td>15.000000</td>\n",
              "      <td>8.000000</td>\n",
              "      <td>209.000000</td>\n",
              "      <td>209.000000</td>\n",
              "      <td>2.000000</td>\n",
              "      <td>2.000000</td>\n",
              "    </tr>\n",
              "  </tbody>\n",
              "</table>\n",
              "</div>"
            ],
            "text/plain": [
              "        home_score   away_score  ...  tournament_type       result\n",
              "count  2942.000000  2942.000000  ...      2942.000000  2942.000000\n",
              "mean      1.526852     1.041808  ...         0.653297     1.221278\n",
              "std       1.515799     1.211115  ...         0.515771     0.819465\n",
              "min       0.000000     0.000000  ...         0.000000     0.000000\n",
              "25%       0.000000     0.000000  ...         0.000000     1.000000\n",
              "50%       1.000000     1.000000  ...         1.000000     1.000000\n",
              "75%       2.000000     2.000000  ...         1.000000     2.000000\n",
              "max      15.000000     8.000000  ...         2.000000     2.000000\n",
              "\n",
              "[8 rows x 6 columns]"
            ]
          },
          "metadata": {
            "tags": []
          },
          "execution_count": 55
        }
      ]
    },
    {
      "cell_type": "code",
      "metadata": {
        "id": "xCClTHdTzHh2"
      },
      "source": [
        "X = model[['hometeam_rank', 'awayteam_rank','tournament_type']]\n",
        "y = model['home_score']"
      ],
      "execution_count": 56,
      "outputs": []
    },
    {
      "cell_type": "markdown",
      "metadata": {
        "id": "lVY6dB6o064H"
      },
      "source": [
        "####Multicolinearity"
      ]
    },
    {
      "cell_type": "code",
      "metadata": {
        "id": "SanKcLTG1AaG"
      },
      "source": [
        "corr=X.corr()"
      ],
      "execution_count": 57,
      "outputs": []
    },
    {
      "cell_type": "code",
      "metadata": {
        "colab": {
          "base_uri": "https://localhost:8080/",
          "height": 143
        },
        "id": "ghWVqcz02VnZ",
        "outputId": "33633ef4-df32-4bf0-d7b9-8be0330c2219"
      },
      "source": [
        "#Checking the VIF\n",
        "pd.DataFrame(np.linalg.inv(corr.values), index = corr.index, columns=corr.columns)\n"
      ],
      "execution_count": 58,
      "outputs": [
        {
          "output_type": "execute_result",
          "data": {
            "text/html": [
              "<div>\n",
              "<style scoped>\n",
              "    .dataframe tbody tr th:only-of-type {\n",
              "        vertical-align: middle;\n",
              "    }\n",
              "\n",
              "    .dataframe tbody tr th {\n",
              "        vertical-align: top;\n",
              "    }\n",
              "\n",
              "    .dataframe thead th {\n",
              "        text-align: right;\n",
              "    }\n",
              "</style>\n",
              "<table border=\"1\" class=\"dataframe\">\n",
              "  <thead>\n",
              "    <tr style=\"text-align: right;\">\n",
              "      <th></th>\n",
              "      <th>hometeam_rank</th>\n",
              "      <th>awayteam_rank</th>\n",
              "      <th>tournament_type</th>\n",
              "    </tr>\n",
              "  </thead>\n",
              "  <tbody>\n",
              "    <tr>\n",
              "      <th>hometeam_rank</th>\n",
              "      <td>1.402613</td>\n",
              "      <td>-0.751468</td>\n",
              "      <td>0.000145</td>\n",
              "    </tr>\n",
              "    <tr>\n",
              "      <th>awayteam_rank</th>\n",
              "      <td>-0.751468</td>\n",
              "      <td>1.403378</td>\n",
              "      <td>0.027672</td>\n",
              "    </tr>\n",
              "    <tr>\n",
              "      <th>tournament_type</th>\n",
              "      <td>0.000145</td>\n",
              "      <td>0.027672</td>\n",
              "      <td>1.000769</td>\n",
              "    </tr>\n",
              "  </tbody>\n",
              "</table>\n",
              "</div>"
            ],
            "text/plain": [
              "                 hometeam_rank  awayteam_rank  tournament_type\n",
              "hometeam_rank         1.402613      -0.751468         0.000145\n",
              "awayteam_rank        -0.751468       1.403378         0.027672\n",
              "tournament_type       0.000145       0.027672         1.000769"
            ]
          },
          "metadata": {
            "tags": []
          },
          "execution_count": 58
        }
      ]
    },
    {
      "cell_type": "markdown",
      "metadata": {
        "id": "jGmcknM82ySs"
      },
      "source": [
        "We will not drop any column because the VIFs are okay(close to 1)"
      ]
    },
    {
      "cell_type": "code",
      "metadata": {
        "id": "ATyOTP203E2S"
      },
      "source": [
        "# Split the dataset into train and test sets\n",
        "X_train, y_train, X_test, y_test = train_test_split(X,y, test_size = 0.2, random_state=0)"
      ],
      "execution_count": 59,
      "outputs": []
    },
    {
      "cell_type": "code",
      "metadata": {
        "colab": {
          "base_uri": "https://localhost:8080/"
        },
        "id": "T2wj3Ptx3nB1",
        "outputId": "0476698a-9304-4d9f-901f-a8be1c83bedf"
      },
      "source": [
        "# Fit polynomial Regression to the dataset\n",
        "poly_reg = PolynomialFeatures(degree = 2) \n",
        "X_poly = poly_reg.fit_transform(X)\n",
        "\n",
        "\n",
        "pol_reg = LinearRegression()\n",
        "pol_reg.fit(X_poly, y)\n",
        "\n",
        "# #Visualize the Polynomial Regression results\n",
        "# plt.scatter(X, y) \n",
        "# plt.plot(X, pol_reg.predict(X_poly), color='red')\n",
        "# plt.title('hometeam score Prediction')\n",
        "# plt.xlabel('determinants')\n",
        "# plt.ylabel('Home score')\n",
        "# plt.show()\n"
      ],
      "execution_count": 60,
      "outputs": [
        {
          "output_type": "execute_result",
          "data": {
            "text/plain": [
              "LinearRegression(copy_X=True, fit_intercept=True, n_jobs=None, normalize=False)"
            ]
          },
          "metadata": {
            "tags": []
          },
          "execution_count": 60
        }
      ]
    },
    {
      "cell_type": "code",
      "metadata": {
        "colab": {
          "base_uri": "https://localhost:8080/"
        },
        "id": "xvxfwWb56_7e",
        "outputId": "855b6a94-36e1-44f0-f15a-c2a1b7401288"
      },
      "source": [
        "# Running the prediction\n",
        "y_pred = pol_reg.predict(X_poly)\n",
        "y_pred\n"
      ],
      "execution_count": 62,
      "outputs": [
        {
          "output_type": "execute_result",
          "data": {
            "text/plain": [
              "array([1.10719464, 1.17497864, 1.77430608, ..., 1.43242982, 2.28313383,\n",
              "       2.04537322])"
            ]
          },
          "metadata": {
            "tags": []
          },
          "execution_count": 62
        }
      ]
    },
    {
      "cell_type": "code",
      "metadata": {
        "colab": {
          "base_uri": "https://localhost:8080/"
        },
        "id": "oJBs2gul8ZD6",
        "outputId": "f5dd4381-8e61-4b56-bc71-14b8f6b2740d"
      },
      "source": [
        "#evaluating our model\n",
        "rmse = np.sqrt(mean_squared_error(y, y_pred))\n",
        "r2 = r2_score(y, y_pred)\n",
        "print(r2)\n",
        "rmse\n"
      ],
      "execution_count": 63,
      "outputs": [
        {
          "output_type": "stream",
          "text": [
            "0.18796281307174756\n"
          ],
          "name": "stdout"
        },
        {
          "output_type": "execute_result",
          "data": {
            "text/plain": [
              "1.3657013937166484"
            ]
          },
          "metadata": {
            "tags": []
          },
          "execution_count": 63
        }
      ]
    },
    {
      "cell_type": "code",
      "metadata": {
        "colab": {
          "base_uri": "https://localhost:8080/"
        },
        "id": "92dc4krZCIr2",
        "outputId": "51baf921-050f-445c-b087-f199c6b282ed"
      },
      "source": [
        "#Trying with three degrees of freedom\n",
        "poly_reg = PolynomialFeatures(degree = 3) \n",
        "X_poly = poly_reg.fit_transform(X)\n",
        "\n",
        "pol_reg = LinearRegression()\n",
        "pol_reg.fit(X_poly, y)\n",
        "\n",
        "y_pred = pol_reg.predict(X_poly)\n",
        "y_pred\n",
        "#calculating rmse\n",
        "rmse = np.sqrt(mean_squared_error(y, y_pred))\n",
        "r2 = r2_score(y, y_pred)\n",
        "print(r2)\n",
        "rmse"
      ],
      "execution_count": 64,
      "outputs": [
        {
          "output_type": "stream",
          "text": [
            "0.2028258081163994\n"
          ],
          "name": "stdout"
        },
        {
          "output_type": "execute_result",
          "data": {
            "text/plain": [
              "1.353145222979272"
            ]
          },
          "metadata": {
            "tags": []
          },
          "execution_count": 64
        }
      ]
    },
    {
      "cell_type": "code",
      "metadata": {
        "colab": {
          "base_uri": "https://localhost:8080/"
        },
        "id": "J5BktMvMCld1",
        "outputId": "f8f68ade-6809-414a-c241-6bfae967a289"
      },
      "source": [
        "#Trying with 4 degrees of freedom\n",
        "poly_reg = PolynomialFeatures(degree = 4) \n",
        "X_poly = poly_reg.fit_transform(X)\n",
        "\n",
        "pol_reg = LinearRegression()\n",
        "pol_reg.fit(X_poly, y)\n",
        "\n",
        "y_pred = pol_reg.predict(X_poly)\n",
        "y_pred\n",
        "#calculating rmse\n",
        "rmse = np.sqrt(mean_squared_error(y, y_pred))\n",
        "r2 = r2_score(y, y_pred)\n",
        "print(r2)\n",
        "rmse"
      ],
      "execution_count": 65,
      "outputs": [
        {
          "output_type": "stream",
          "text": [
            "0.21074439099909537\n"
          ],
          "name": "stdout"
        },
        {
          "output_type": "execute_result",
          "data": {
            "text/plain": [
              "1.3464078407709192"
            ]
          },
          "metadata": {
            "tags": []
          },
          "execution_count": 65
        }
      ]
    },
    {
      "cell_type": "code",
      "metadata": {
        "colab": {
          "base_uri": "https://localhost:8080/"
        },
        "id": "8VxkJkXfDDw8",
        "outputId": "486188a0-5f51-4c18-cbb4-547b70e9a265"
      },
      "source": [
        "#Trying with 6 degrees of freedom\n",
        "poly_reg = PolynomialFeatures(degree = 6) \n",
        "X_poly = poly_reg.fit_transform(X)\n",
        "\n",
        "pol_reg = LinearRegression()\n",
        "pol_reg.fit(X_poly, y)\n",
        "\n",
        "y_pred = pol_reg.predict(X_poly)\n",
        "y_pred\n",
        "#calculating rmse\n",
        "rmse = np.sqrt(mean_squared_error(y, y_pred))\n",
        "r2 = r2_score(y, y_pred)\n",
        "print(r2)\n",
        "rmse"
      ],
      "execution_count": 66,
      "outputs": [
        {
          "output_type": "stream",
          "text": [
            "0.22086577927387618\n"
          ],
          "name": "stdout"
        },
        {
          "output_type": "execute_result",
          "data": {
            "text/plain": [
              "1.3377468388804403"
            ]
          },
          "metadata": {
            "tags": []
          },
          "execution_count": 66
        }
      ]
    },
    {
      "cell_type": "markdown",
      "metadata": {
        "id": "3bat8HLSDrXU"
      },
      "source": [
        "We will go with 2 degrees of freedom because the rmse is the least in comparison to the mean of dependent variable"
      ]
    },
    {
      "cell_type": "markdown",
      "metadata": {
        "id": "d3yFFLUtAO3Y"
      },
      "source": [
        "Predicting away score below"
      ]
    },
    {
      "cell_type": "code",
      "metadata": {
        "colab": {
          "base_uri": "https://localhost:8080/",
          "height": 299
        },
        "id": "dr3B-2FpARyw",
        "outputId": "49ab2a9d-6113-48bf-d089-208db6fa8c7e"
      },
      "source": [
        "model.describe()"
      ],
      "execution_count": 67,
      "outputs": [
        {
          "output_type": "execute_result",
          "data": {
            "text/html": [
              "<div>\n",
              "<style scoped>\n",
              "    .dataframe tbody tr th:only-of-type {\n",
              "        vertical-align: middle;\n",
              "    }\n",
              "\n",
              "    .dataframe tbody tr th {\n",
              "        vertical-align: top;\n",
              "    }\n",
              "\n",
              "    .dataframe thead th {\n",
              "        text-align: right;\n",
              "    }\n",
              "</style>\n",
              "<table border=\"1\" class=\"dataframe\">\n",
              "  <thead>\n",
              "    <tr style=\"text-align: right;\">\n",
              "      <th></th>\n",
              "      <th>home_score</th>\n",
              "      <th>away_score</th>\n",
              "      <th>hometeam_rank</th>\n",
              "      <th>awayteam_rank</th>\n",
              "      <th>tournament_type</th>\n",
              "      <th>result</th>\n",
              "    </tr>\n",
              "  </thead>\n",
              "  <tbody>\n",
              "    <tr>\n",
              "      <th>count</th>\n",
              "      <td>2942.000000</td>\n",
              "      <td>2942.000000</td>\n",
              "      <td>2942.000000</td>\n",
              "      <td>2942.000000</td>\n",
              "      <td>2942.000000</td>\n",
              "      <td>2942.000000</td>\n",
              "    </tr>\n",
              "    <tr>\n",
              "      <th>mean</th>\n",
              "      <td>1.526852</td>\n",
              "      <td>1.041808</td>\n",
              "      <td>82.706322</td>\n",
              "      <td>85.820190</td>\n",
              "      <td>0.653297</td>\n",
              "      <td>1.221278</td>\n",
              "    </tr>\n",
              "    <tr>\n",
              "      <th>std</th>\n",
              "      <td>1.515799</td>\n",
              "      <td>1.211115</td>\n",
              "      <td>56.652920</td>\n",
              "      <td>56.713522</td>\n",
              "      <td>0.515771</td>\n",
              "      <td>0.819465</td>\n",
              "    </tr>\n",
              "    <tr>\n",
              "      <th>min</th>\n",
              "      <td>0.000000</td>\n",
              "      <td>0.000000</td>\n",
              "      <td>1.000000</td>\n",
              "      <td>1.000000</td>\n",
              "      <td>0.000000</td>\n",
              "      <td>0.000000</td>\n",
              "    </tr>\n",
              "    <tr>\n",
              "      <th>25%</th>\n",
              "      <td>0.000000</td>\n",
              "      <td>0.000000</td>\n",
              "      <td>34.000000</td>\n",
              "      <td>37.000000</td>\n",
              "      <td>0.000000</td>\n",
              "      <td>1.000000</td>\n",
              "    </tr>\n",
              "    <tr>\n",
              "      <th>50%</th>\n",
              "      <td>1.000000</td>\n",
              "      <td>1.000000</td>\n",
              "      <td>75.000000</td>\n",
              "      <td>78.000000</td>\n",
              "      <td>1.000000</td>\n",
              "      <td>1.000000</td>\n",
              "    </tr>\n",
              "    <tr>\n",
              "      <th>75%</th>\n",
              "      <td>2.000000</td>\n",
              "      <td>2.000000</td>\n",
              "      <td>124.000000</td>\n",
              "      <td>129.000000</td>\n",
              "      <td>1.000000</td>\n",
              "      <td>2.000000</td>\n",
              "    </tr>\n",
              "    <tr>\n",
              "      <th>max</th>\n",
              "      <td>15.000000</td>\n",
              "      <td>8.000000</td>\n",
              "      <td>209.000000</td>\n",
              "      <td>209.000000</td>\n",
              "      <td>2.000000</td>\n",
              "      <td>2.000000</td>\n",
              "    </tr>\n",
              "  </tbody>\n",
              "</table>\n",
              "</div>"
            ],
            "text/plain": [
              "        home_score   away_score  ...  tournament_type       result\n",
              "count  2942.000000  2942.000000  ...      2942.000000  2942.000000\n",
              "mean      1.526852     1.041808  ...         0.653297     1.221278\n",
              "std       1.515799     1.211115  ...         0.515771     0.819465\n",
              "min       0.000000     0.000000  ...         0.000000     0.000000\n",
              "25%       0.000000     0.000000  ...         0.000000     1.000000\n",
              "50%       1.000000     1.000000  ...         1.000000     1.000000\n",
              "75%       2.000000     2.000000  ...         1.000000     2.000000\n",
              "max      15.000000     8.000000  ...         2.000000     2.000000\n",
              "\n",
              "[8 rows x 6 columns]"
            ]
          },
          "metadata": {
            "tags": []
          },
          "execution_count": 67
        }
      ]
    },
    {
      "cell_type": "code",
      "metadata": {
        "id": "nnq3GsZ1Ev6V"
      },
      "source": [
        "X = model[['hometeam_rank', 'awayteam_rank','tournament_type']]\n",
        "y = model['away_score']"
      ],
      "execution_count": 68,
      "outputs": []
    },
    {
      "cell_type": "code",
      "metadata": {
        "colab": {
          "base_uri": "https://localhost:8080/",
          "height": 143
        },
        "id": "EJMb0of4FEKh",
        "outputId": "8be965e9-7c2f-4f4d-89eb-d923340056d7"
      },
      "source": [
        "corr=X.corr()\n",
        "#Checking the VIF\n",
        "pd.DataFrame(np.linalg.inv(corr.values), index = corr.index, columns=corr.columns)"
      ],
      "execution_count": 69,
      "outputs": [
        {
          "output_type": "execute_result",
          "data": {
            "text/html": [
              "<div>\n",
              "<style scoped>\n",
              "    .dataframe tbody tr th:only-of-type {\n",
              "        vertical-align: middle;\n",
              "    }\n",
              "\n",
              "    .dataframe tbody tr th {\n",
              "        vertical-align: top;\n",
              "    }\n",
              "\n",
              "    .dataframe thead th {\n",
              "        text-align: right;\n",
              "    }\n",
              "</style>\n",
              "<table border=\"1\" class=\"dataframe\">\n",
              "  <thead>\n",
              "    <tr style=\"text-align: right;\">\n",
              "      <th></th>\n",
              "      <th>hometeam_rank</th>\n",
              "      <th>awayteam_rank</th>\n",
              "      <th>tournament_type</th>\n",
              "    </tr>\n",
              "  </thead>\n",
              "  <tbody>\n",
              "    <tr>\n",
              "      <th>hometeam_rank</th>\n",
              "      <td>1.402613</td>\n",
              "      <td>-0.751468</td>\n",
              "      <td>0.000145</td>\n",
              "    </tr>\n",
              "    <tr>\n",
              "      <th>awayteam_rank</th>\n",
              "      <td>-0.751468</td>\n",
              "      <td>1.403378</td>\n",
              "      <td>0.027672</td>\n",
              "    </tr>\n",
              "    <tr>\n",
              "      <th>tournament_type</th>\n",
              "      <td>0.000145</td>\n",
              "      <td>0.027672</td>\n",
              "      <td>1.000769</td>\n",
              "    </tr>\n",
              "  </tbody>\n",
              "</table>\n",
              "</div>"
            ],
            "text/plain": [
              "                 hometeam_rank  awayteam_rank  tournament_type\n",
              "hometeam_rank         1.402613      -0.751468         0.000145\n",
              "awayteam_rank        -0.751468       1.403378         0.027672\n",
              "tournament_type       0.000145       0.027672         1.000769"
            ]
          },
          "metadata": {
            "tags": []
          },
          "execution_count": 69
        }
      ]
    },
    {
      "cell_type": "code",
      "metadata": {
        "colab": {
          "base_uri": "https://localhost:8080/"
        },
        "id": "XQPCNGkzFSmk",
        "outputId": "af4aebfd-b18f-41c1-97e6-a14de5b526a2"
      },
      "source": [
        "# Split the dataset into train and test sets\n",
        "X_train, y_train, X_test, y_test = train_test_split(X,y, test_size = 0.2, random_state=0)\n",
        "\n",
        "# Fit polynomial Regression to the dataset\n",
        "poly_reg = PolynomialFeatures(degree = 2) \n",
        "X_poly = poly_reg.fit_transform(X)\n",
        "\n",
        "\n",
        "pol_reg = LinearRegression()\n",
        "pol_reg.fit(X_poly, y)\n",
        "\n",
        "# Running the prediction\n",
        "y_pred = pol_reg.predict(X_poly)\n",
        "y_pred\n",
        "\n",
        "#evaluating our model\n",
        "rmse = np.sqrt(mean_squared_error(y, y_pred))\n",
        "r2 = r2_score(y, y_pred)\n",
        "print(r2)\n",
        "rmse"
      ],
      "execution_count": 70,
      "outputs": [
        {
          "output_type": "stream",
          "text": [
            "0.17048337425519156\n"
          ],
          "name": "stdout"
        },
        {
          "output_type": "execute_result",
          "data": {
            "text/plain": [
              "1.1028694703028512"
            ]
          },
          "metadata": {
            "tags": []
          },
          "execution_count": 70
        }
      ]
    },
    {
      "cell_type": "code",
      "metadata": {
        "colab": {
          "base_uri": "https://localhost:8080/"
        },
        "id": "qwrOUacKGUFW",
        "outputId": "6b891f46-6298-470e-c116-ffa3f66b30e9"
      },
      "source": [
        "#Trying with 4 degrees of freedom\n",
        "poly_reg = PolynomialFeatures(degree = 4) \n",
        "X_poly = poly_reg.fit_transform(X)\n",
        "\n",
        "pol_reg = LinearRegression()\n",
        "pol_reg.fit(X_poly, y)\n",
        "\n",
        "y_pred = pol_reg.predict(X_poly)\n",
        "y_pred\n",
        "#calculating rmse\n",
        "rmse = np.sqrt(mean_squared_error(y, y_pred))\n",
        "r2 = r2_score(y, y_pred)\n",
        "print(r2)\n",
        "rmse"
      ],
      "execution_count": 71,
      "outputs": [
        {
          "output_type": "stream",
          "text": [
            "0.18765915312250525\n"
          ],
          "name": "stdout"
        },
        {
          "output_type": "execute_result",
          "data": {
            "text/plain": [
              "1.0913918666437072"
            ]
          },
          "metadata": {
            "tags": []
          },
          "execution_count": 71
        }
      ]
    },
    {
      "cell_type": "code",
      "metadata": {
        "colab": {
          "base_uri": "https://localhost:8080/"
        },
        "id": "b_4wqibmGv8G",
        "outputId": "cc8d15fa-0bf2-4c1a-ed36-575dcb81712f"
      },
      "source": [
        "#Trying with 6 degrees of freedom\n",
        "poly_reg = PolynomialFeatures(degree = 6) \n",
        "X_poly = poly_reg.fit_transform(X)\n",
        "\n",
        "pol_reg = LinearRegression()\n",
        "pol_reg.fit(X_poly, y)\n",
        "\n",
        "y_pred = pol_reg.predict(X_poly)\n",
        "y_pred\n",
        "#calculating rmse\n",
        "rmse = np.sqrt(mean_squared_error(y, y_pred))\n",
        "r2 = r2_score(y, y_pred)\n",
        "print(r2)\n",
        "rmse"
      ],
      "execution_count": 72,
      "outputs": [
        {
          "output_type": "stream",
          "text": [
            "0.19734117225247816\n"
          ],
          "name": "stdout"
        },
        {
          "output_type": "execute_result",
          "data": {
            "text/plain": [
              "1.084868403134262"
            ]
          },
          "metadata": {
            "tags": []
          },
          "execution_count": 72
        }
      ]
    },
    {
      "cell_type": "markdown",
      "metadata": {
        "id": "zIFdCw_xG77L"
      },
      "source": [
        "We will use 2 degrees of freedom"
      ]
    },
    {
      "cell_type": "markdown",
      "metadata": {
        "id": "zpKy9LDkHIMz"
      },
      "source": [
        "###Logistic regression"
      ]
    },
    {
      "cell_type": "markdown",
      "metadata": {
        "id": "k4xgb7P2HyTy"
      },
      "source": [
        "We had done feature engingineering before to get the result column that displays whether match was win, lose or draw."
      ]
    },
    {
      "cell_type": "code",
      "metadata": {
        "colab": {
          "base_uri": "https://localhost:8080/",
          "height": 701
        },
        "id": "sZsqfxbxHB8t",
        "outputId": "97578998-7631-4856-f6d3-ea0108e68fcc"
      },
      "source": [
        "model"
      ],
      "execution_count": 73,
      "outputs": [
        {
          "output_type": "execute_result",
          "data": {
            "text/html": [
              "<div>\n",
              "<style scoped>\n",
              "    .dataframe tbody tr th:only-of-type {\n",
              "        vertical-align: middle;\n",
              "    }\n",
              "\n",
              "    .dataframe tbody tr th {\n",
              "        vertical-align: top;\n",
              "    }\n",
              "\n",
              "    .dataframe thead th {\n",
              "        text-align: right;\n",
              "    }\n",
              "</style>\n",
              "<table border=\"1\" class=\"dataframe\">\n",
              "  <thead>\n",
              "    <tr style=\"text-align: right;\">\n",
              "      <th></th>\n",
              "      <th>date</th>\n",
              "      <th>home_team</th>\n",
              "      <th>away_team</th>\n",
              "      <th>home_score</th>\n",
              "      <th>away_score</th>\n",
              "      <th>tournament</th>\n",
              "      <th>hometeam_rank</th>\n",
              "      <th>awayteam_rank</th>\n",
              "      <th>tournament_type</th>\n",
              "      <th>result</th>\n",
              "    </tr>\n",
              "  </thead>\n",
              "  <tbody>\n",
              "    <tr>\n",
              "      <th>0</th>\n",
              "      <td>2015-01-04</td>\n",
              "      <td>Bahrain</td>\n",
              "      <td>Jordan</td>\n",
              "      <td>1</td>\n",
              "      <td>0</td>\n",
              "      <td>Friendly</td>\n",
              "      <td>110</td>\n",
              "      <td>93</td>\n",
              "      <td>0</td>\n",
              "      <td>2</td>\n",
              "    </tr>\n",
              "    <tr>\n",
              "      <th>144</th>\n",
              "      <td>2015-03-30</td>\n",
              "      <td>Saudi Arabia</td>\n",
              "      <td>Jordan</td>\n",
              "      <td>2</td>\n",
              "      <td>1</td>\n",
              "      <td>Friendly</td>\n",
              "      <td>102</td>\n",
              "      <td>93</td>\n",
              "      <td>0</td>\n",
              "      <td>2</td>\n",
              "    </tr>\n",
              "    <tr>\n",
              "      <th>288</th>\n",
              "      <td>2015-01-20</td>\n",
              "      <td>Japan</td>\n",
              "      <td>Jordan</td>\n",
              "      <td>2</td>\n",
              "      <td>0</td>\n",
              "      <td>AFC Asian Cup</td>\n",
              "      <td>54</td>\n",
              "      <td>93</td>\n",
              "      <td>1</td>\n",
              "      <td>2</td>\n",
              "    </tr>\n",
              "    <tr>\n",
              "      <th>432</th>\n",
              "      <td>2015-01-16</td>\n",
              "      <td>Palestine</td>\n",
              "      <td>Jordan</td>\n",
              "      <td>1</td>\n",
              "      <td>5</td>\n",
              "      <td>AFC Asian Cup</td>\n",
              "      <td>115</td>\n",
              "      <td>93</td>\n",
              "      <td>1</td>\n",
              "      <td>1</td>\n",
              "    </tr>\n",
              "    <tr>\n",
              "      <th>576</th>\n",
              "      <td>2015-09-08</td>\n",
              "      <td>Bangladesh</td>\n",
              "      <td>Jordan</td>\n",
              "      <td>0</td>\n",
              "      <td>4</td>\n",
              "      <td>FIFA World Cup qualification</td>\n",
              "      <td>165</td>\n",
              "      <td>93</td>\n",
              "      <td>1</td>\n",
              "      <td>1</td>\n",
              "    </tr>\n",
              "    <tr>\n",
              "      <th>...</th>\n",
              "      <td>...</td>\n",
              "      <td>...</td>\n",
              "      <td>...</td>\n",
              "      <td>...</td>\n",
              "      <td>...</td>\n",
              "      <td>...</td>\n",
              "      <td>...</td>\n",
              "      <td>...</td>\n",
              "      <td>...</td>\n",
              "      <td>...</td>\n",
              "    </tr>\n",
              "    <tr>\n",
              "      <th>347700</th>\n",
              "      <td>2018-09-02</td>\n",
              "      <td>Ethiopia</td>\n",
              "      <td>Burundi</td>\n",
              "      <td>1</td>\n",
              "      <td>1</td>\n",
              "      <td>Friendly</td>\n",
              "      <td>137</td>\n",
              "      <td>143</td>\n",
              "      <td>0</td>\n",
              "      <td>0</td>\n",
              "    </tr>\n",
              "    <tr>\n",
              "      <th>347736</th>\n",
              "      <td>2018-09-08</td>\n",
              "      <td>Gabon</td>\n",
              "      <td>Burundi</td>\n",
              "      <td>1</td>\n",
              "      <td>1</td>\n",
              "      <td>African Cup of Nations qualification</td>\n",
              "      <td>93</td>\n",
              "      <td>143</td>\n",
              "      <td>1</td>\n",
              "      <td>0</td>\n",
              "    </tr>\n",
              "    <tr>\n",
              "      <th>347772</th>\n",
              "      <td>2018-11-16</td>\n",
              "      <td>South Sudan</td>\n",
              "      <td>Burundi</td>\n",
              "      <td>2</td>\n",
              "      <td>5</td>\n",
              "      <td>African Cup of Nations qualification</td>\n",
              "      <td>153</td>\n",
              "      <td>143</td>\n",
              "      <td>1</td>\n",
              "      <td>1</td>\n",
              "    </tr>\n",
              "    <tr>\n",
              "      <th>347808</th>\n",
              "      <td>2018-10-12</td>\n",
              "      <td>Gabon</td>\n",
              "      <td>South Sudan</td>\n",
              "      <td>3</td>\n",
              "      <td>0</td>\n",
              "      <td>African Cup of Nations qualification</td>\n",
              "      <td>93</td>\n",
              "      <td>153</td>\n",
              "      <td>1</td>\n",
              "      <td>2</td>\n",
              "    </tr>\n",
              "    <tr>\n",
              "      <th>347844</th>\n",
              "      <td>2018-10-12</td>\n",
              "      <td>Togo</td>\n",
              "      <td>Gambia</td>\n",
              "      <td>1</td>\n",
              "      <td>1</td>\n",
              "      <td>African Cup of Nations qualification</td>\n",
              "      <td>127</td>\n",
              "      <td>163</td>\n",
              "      <td>1</td>\n",
              "      <td>0</td>\n",
              "    </tr>\n",
              "  </tbody>\n",
              "</table>\n",
              "<p>2942 rows × 10 columns</p>\n",
              "</div>"
            ],
            "text/plain": [
              "             date     home_team  ... tournament_type  result\n",
              "0      2015-01-04       Bahrain  ...               0       2\n",
              "144    2015-03-30  Saudi Arabia  ...               0       2\n",
              "288    2015-01-20         Japan  ...               1       2\n",
              "432    2015-01-16     Palestine  ...               1       1\n",
              "576    2015-09-08    Bangladesh  ...               1       1\n",
              "...           ...           ...  ...             ...     ...\n",
              "347700 2018-09-02      Ethiopia  ...               0       0\n",
              "347736 2018-09-08         Gabon  ...               1       0\n",
              "347772 2018-11-16   South Sudan  ...               1       1\n",
              "347808 2018-10-12         Gabon  ...               1       2\n",
              "347844 2018-10-12          Togo  ...               1       0\n",
              "\n",
              "[2942 rows x 10 columns]"
            ]
          },
          "metadata": {
            "tags": []
          },
          "execution_count": 73
        }
      ]
    },
    {
      "cell_type": "code",
      "metadata": {
        "colab": {
          "base_uri": "https://localhost:8080/",
          "height": 297
        },
        "id": "KhwEoHvBIa85",
        "outputId": "3db621f2-43ae-45ac-de33-d2ae33f94971"
      },
      "source": [
        "# Checking our target variable\n",
        "\n",
        "sns.countplot(x='result',data=model, palette='hls')"
      ],
      "execution_count": 74,
      "outputs": [
        {
          "output_type": "execute_result",
          "data": {
            "text/plain": [
              "<matplotlib.axes._subplots.AxesSubplot at 0x7fedc73faa10>"
            ]
          },
          "metadata": {
            "tags": []
          },
          "execution_count": 74
        },
        {
          "output_type": "display_data",
          "data": {
            "image/png": "[encoded data removed]",
            "text/plain": [
              "<Figure size 432x288 with 1 Axes>"
            ]
          },
          "metadata": {
            "tags": [],
            "needs_background": "light"
          }
        }
      ]
    },
    {
      "cell_type": "code",
      "metadata": {
        "colab": {
          "base_uri": "https://localhost:8080/"
        },
        "id": "FQQf0wcQIgXI",
        "outputId": "c1618399-48d9-4d06-e7fb-2140444af7f5"
      },
      "source": [
        "# Splitting our dataset\n",
        "#\n",
        "X = model.drop(columns= ['date',\t'home_team',\t'away_team', 'tournament', 'result'])\n",
        "y = model['result']\n",
        "\n",
        "from sklearn.model_selection import train_test_split\n",
        "X_train, X_test, y_train, y_test = train_test_split(X, y, test_size = .3, random_state=25)\n",
        "\n",
        "LogReg = LogisticRegression()\n",
        "LogReg.fit(X_train, y_train)\n",
        "\n",
        "y_pred = LogReg.predict(X_test)\n",
        "\n",
        "# Evaluating the model\n",
        "from sklearn.metrics import confusion_matrix\n",
        "confusion_matrix = confusion_matrix(y_test, y_pred)\n",
        "confusion_matrix"
      ],
      "execution_count": 77,
      "outputs": [
        {
          "output_type": "stream",
          "text": [
            "/usr/local/lib/python3.7/dist-packages/sklearn/linear_model/_logistic.py:940: ConvergenceWarning: lbfgs failed to converge (status=1):\n",
            "STOP: TOTAL NO. of ITERATIONS REACHED LIMIT.\n",
            "\n",
            "Increase the number of iterations (max_iter) or scale the data as shown in:\n",
            "    https://scikit-learn.org/stable/modules/preprocessing.html\n",
            "Please also refer to the documentation for alternative solver options:\n",
            "    https://scikit-learn.org/stable/modules/linear_model.html#logistic-regression\n",
            "  extra_warning_msg=_LOGISTIC_SOLVER_CONVERGENCE_MSG)\n"
          ],
          "name": "stderr"
        },
        {
          "output_type": "execute_result",
          "data": {
            "text/plain": [
              "array([[226,   0,   0],\n",
              "       [  0, 253,   0],\n",
              "       [  0,   0, 404]])"
            ]
          },
          "metadata": {
            "tags": []
          },
          "execution_count": 77
        }
      ]
    },
    {
      "cell_type": "markdown",
      "metadata": {
        "id": "o1psWgixMVRv"
      },
      "source": [
        "####Hyperparameter tuning"
      ]
    },
    {
      "cell_type": "code",
      "metadata": {
        "colab": {
          "base_uri": "https://localhost:8080/"
        },
        "id": "9ZsPewMHM6wo",
        "outputId": "a2101fb6-08ce-462a-efae-c3b13ac15488"
      },
      "source": [
        "model.columns"
      ],
      "execution_count": 78,
      "outputs": [
        {
          "output_type": "execute_result",
          "data": {
            "text/plain": [
              "Index(['date', 'home_team', 'away_team', 'home_score', 'away_score',\n",
              "       'tournament', 'hometeam_rank', 'awayteam_rank', 'tournament_type',\n",
              "       'result'],\n",
              "      dtype='object')"
            ]
          },
          "metadata": {
            "tags": []
          },
          "execution_count": 78
        }
      ]
    },
    {
      "cell_type": "code",
      "metadata": {
        "id": "I69ggNnbMZ2t"
      },
      "source": [
        "#splitting our independent and dependent variables\n",
        "X = model.drop([\"result\", 'date','home_team', 'away_team', 'tournament'],axis=1)\n",
        "y = model[\"result\"]\n",
        "\n",
        "# Performing Data Preprocessing\n",
        "# ---\n",
        "X_train, X_test, y_train, y_test = train_test_split(X, y)"
      ],
      "execution_count": 80,
      "outputs": []
    },
    {
      "cell_type": "code",
      "metadata": {
        "colab": {
          "base_uri": "https://localhost:8080/"
        },
        "id": "5IqYMd1vNdVx",
        "outputId": "251a6fc9-eb6c-4d46-d7b7-eee012065eb8"
      },
      "source": [
        "#performing random search\n",
        "from scipy.stats import loguniform\n",
        "from pandas import read_csv\n",
        "from sklearn.linear_model import LogisticRegression\n",
        "from sklearn.model_selection import RepeatedStratifiedKFold\n",
        "from sklearn.model_selection import RandomizedSearchCV\n",
        "from scipy.stats import uniform\n",
        "\n",
        "# define model\n",
        "logistic = LogisticRegression(solver='saga', tol=1e-2, max_iter=200,random_state=0)\n",
        "\n",
        "distributions = dict(C=uniform(loc=0, scale=4),penalty=['l2', 'l1'])\n",
        "\n",
        "clf = RandomizedSearchCV(logistic, distributions, random_state=0)\n",
        "\n",
        "search = clf.fit(X,y)\n",
        "\n",
        "search.best_params_"
      ],
      "execution_count": 81,
      "outputs": [
        {
          "output_type": "execute_result",
          "data": {
            "text/plain": [
              "{'C': 2.195254015709299, 'penalty': 'l1'}"
            ]
          },
          "metadata": {
            "tags": []
          },
          "execution_count": 81
        }
      ]
    },
    {
      "cell_type": "markdown",
      "metadata": {
        "id": "hRxaoxYANvNf"
      },
      "source": [
        "The above are our best parameters"
      ]
    },
    {
      "cell_type": "markdown",
      "metadata": {
        "id": "JaI6-HBQOynY"
      },
      "source": [
        "###Conclusion"
      ]
    },
    {
      "cell_type": "markdown",
      "metadata": {
        "id": "d9Ze5DaePh0y"
      },
      "source": [
        "Logistic regression produced an accurate prediction model.<br>\n",
        "However for polynomial regression, the Root mean Square errors we were getting were questionable in comparison to 10% the target mean. We therefore advocate for using a different kind of regression maybe for predicting the home and away scores"
      ]
    }
  ]
}